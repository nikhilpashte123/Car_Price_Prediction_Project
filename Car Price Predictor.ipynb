{
 "cells": [
  {
   "cell_type": "code",
   "execution_count": 1,
   "id": "ee6fc3e9",
   "metadata": {},
   "outputs": [
    {
     "name": "stderr",
     "output_type": "stream",
     "text": [
      "C:\\Users\\Admin\\anaconda3\\lib\\site-packages\\scipy\\__init__.py:146: UserWarning: A NumPy version >=1.16.5 and <1.23.0 is required for this version of SciPy (detected version 1.23.5\n",
      "  warnings.warn(f\"A NumPy version >={np_minversion} and <{np_maxversion}\"\n"
     ]
    }
   ],
   "source": [
    "import pandas as pd\n",
    "import numpy as np\n",
    "import matplotlib.pyplot as plt\n",
    "import seaborn as sns\n",
    "\n",
    "import warnings\n",
    "warnings.filterwarnings('ignore')"
   ]
  },
  {
   "cell_type": "markdown",
   "id": "6ce32386",
   "metadata": {},
   "source": [
    "# Importing Data"
   ]
  },
  {
   "cell_type": "code",
   "execution_count": 2,
   "id": "9f6e0008",
   "metadata": {},
   "outputs": [],
   "source": [
    "car=pd.read_csv(\"car_price.csv\")"
   ]
  },
  {
   "cell_type": "code",
   "execution_count": 3,
   "id": "212b84eb",
   "metadata": {},
   "outputs": [
    {
     "data": {
      "text/html": [
       "<div>\n",
       "<style scoped>\n",
       "    .dataframe tbody tr th:only-of-type {\n",
       "        vertical-align: middle;\n",
       "    }\n",
       "\n",
       "    .dataframe tbody tr th {\n",
       "        vertical-align: top;\n",
       "    }\n",
       "\n",
       "    .dataframe thead th {\n",
       "        text-align: right;\n",
       "    }\n",
       "</style>\n",
       "<table border=\"1\" class=\"dataframe\">\n",
       "  <thead>\n",
       "    <tr style=\"text-align: right;\">\n",
       "      <th></th>\n",
       "      <th>Unnamed: 0</th>\n",
       "      <th>car_name</th>\n",
       "      <th>car_prices_in_rupee</th>\n",
       "      <th>kms_driven</th>\n",
       "      <th>fuel_type</th>\n",
       "      <th>transmission</th>\n",
       "      <th>ownership</th>\n",
       "      <th>manufacture</th>\n",
       "      <th>engine</th>\n",
       "      <th>Seats</th>\n",
       "    </tr>\n",
       "  </thead>\n",
       "  <tbody>\n",
       "    <tr>\n",
       "      <th>0</th>\n",
       "      <td>0</td>\n",
       "      <td>Jeep Compass 2.0 Longitude Option BSIV</td>\n",
       "      <td>10.03 Lakh</td>\n",
       "      <td>86,226 kms</td>\n",
       "      <td>Diesel</td>\n",
       "      <td>Manual</td>\n",
       "      <td>1st Owner</td>\n",
       "      <td>2017</td>\n",
       "      <td>1956 cc</td>\n",
       "      <td>5 Seats</td>\n",
       "    </tr>\n",
       "    <tr>\n",
       "      <th>1</th>\n",
       "      <td>1</td>\n",
       "      <td>Renault Duster RXZ Turbo CVT</td>\n",
       "      <td>12.83 Lakh</td>\n",
       "      <td>13,248 kms</td>\n",
       "      <td>Petrol</td>\n",
       "      <td>Automatic</td>\n",
       "      <td>1st Owner</td>\n",
       "      <td>2021</td>\n",
       "      <td>1330 cc</td>\n",
       "      <td>5 Seats</td>\n",
       "    </tr>\n",
       "    <tr>\n",
       "      <th>2</th>\n",
       "      <td>2</td>\n",
       "      <td>Toyota Camry 2.5 G</td>\n",
       "      <td>16.40 Lakh</td>\n",
       "      <td>60,343 kms</td>\n",
       "      <td>Petrol</td>\n",
       "      <td>Automatic</td>\n",
       "      <td>1st Owner</td>\n",
       "      <td>2016</td>\n",
       "      <td>2494 cc</td>\n",
       "      <td>5 Seats</td>\n",
       "    </tr>\n",
       "    <tr>\n",
       "      <th>3</th>\n",
       "      <td>3</td>\n",
       "      <td>Honda Jazz VX CVT</td>\n",
       "      <td>7.77 Lakh</td>\n",
       "      <td>26,696 kms</td>\n",
       "      <td>Petrol</td>\n",
       "      <td>Automatic</td>\n",
       "      <td>1st Owner</td>\n",
       "      <td>2018</td>\n",
       "      <td>1199 cc</td>\n",
       "      <td>5 Seats</td>\n",
       "    </tr>\n",
       "    <tr>\n",
       "      <th>4</th>\n",
       "      <td>4</td>\n",
       "      <td>Volkswagen Polo 1.2 MPI Highline</td>\n",
       "      <td>5.15 Lakh</td>\n",
       "      <td>69,414 kms</td>\n",
       "      <td>Petrol</td>\n",
       "      <td>Manual</td>\n",
       "      <td>1st Owner</td>\n",
       "      <td>2016</td>\n",
       "      <td>1199 cc</td>\n",
       "      <td>5 Seats</td>\n",
       "    </tr>\n",
       "    <tr>\n",
       "      <th>...</th>\n",
       "      <td>...</td>\n",
       "      <td>...</td>\n",
       "      <td>...</td>\n",
       "      <td>...</td>\n",
       "      <td>...</td>\n",
       "      <td>...</td>\n",
       "      <td>...</td>\n",
       "      <td>...</td>\n",
       "      <td>...</td>\n",
       "      <td>...</td>\n",
       "    </tr>\n",
       "    <tr>\n",
       "      <th>5507</th>\n",
       "      <td>5507</td>\n",
       "      <td>BMW X1 sDrive 20d xLine</td>\n",
       "      <td>28.90 Lakh</td>\n",
       "      <td>45,000 kms</td>\n",
       "      <td>Diesel</td>\n",
       "      <td>Automatic</td>\n",
       "      <td>1st Owner</td>\n",
       "      <td>2018</td>\n",
       "      <td>2995 cc</td>\n",
       "      <td>7 Seats</td>\n",
       "    </tr>\n",
       "    <tr>\n",
       "      <th>5508</th>\n",
       "      <td>5508</td>\n",
       "      <td>BMW M Series M4 Coupe</td>\n",
       "      <td>64.90 Lakh</td>\n",
       "      <td>29,000 kms</td>\n",
       "      <td>Petrol</td>\n",
       "      <td>Automatic</td>\n",
       "      <td>2nd Owner</td>\n",
       "      <td>2015</td>\n",
       "      <td>1968 cc</td>\n",
       "      <td>5 Seats</td>\n",
       "    </tr>\n",
       "    <tr>\n",
       "      <th>5509</th>\n",
       "      <td>5509</td>\n",
       "      <td>Jaguar XF 2.2 Litre Luxury</td>\n",
       "      <td>13.75 Lakh</td>\n",
       "      <td>90,000 kms</td>\n",
       "      <td>Diesel</td>\n",
       "      <td>Automatic</td>\n",
       "      <td>2nd Owner</td>\n",
       "      <td>2013</td>\n",
       "      <td>2755 cc</td>\n",
       "      <td>5 Seats</td>\n",
       "    </tr>\n",
       "    <tr>\n",
       "      <th>5510</th>\n",
       "      <td>5510</td>\n",
       "      <td>BMW 7 Series 730Ld</td>\n",
       "      <td>29.90 Lakh</td>\n",
       "      <td>79,000 kms</td>\n",
       "      <td>Diesel</td>\n",
       "      <td>Automatic</td>\n",
       "      <td>3rd Owner</td>\n",
       "      <td>2015</td>\n",
       "      <td>2967 cc</td>\n",
       "      <td>6 Seats</td>\n",
       "    </tr>\n",
       "    <tr>\n",
       "      <th>5511</th>\n",
       "      <td>5511</td>\n",
       "      <td>BMW 5 Series 520d M Sport</td>\n",
       "      <td>31.90 Lakh</td>\n",
       "      <td>42,000 kms</td>\n",
       "      <td>Diesel</td>\n",
       "      <td>Automatic</td>\n",
       "      <td>2nd Owner</td>\n",
       "      <td>2017</td>\n",
       "      <td>1991 cc</td>\n",
       "      <td>5 Seats</td>\n",
       "    </tr>\n",
       "  </tbody>\n",
       "</table>\n",
       "<p>5512 rows × 10 columns</p>\n",
       "</div>"
      ],
      "text/plain": [
       "      Unnamed: 0                                car_name car_prices_in_rupee  \\\n",
       "0              0  Jeep Compass 2.0 Longitude Option BSIV          10.03 Lakh   \n",
       "1              1            Renault Duster RXZ Turbo CVT          12.83 Lakh   \n",
       "2              2                      Toyota Camry 2.5 G          16.40 Lakh   \n",
       "3              3                       Honda Jazz VX CVT           7.77 Lakh   \n",
       "4              4        Volkswagen Polo 1.2 MPI Highline           5.15 Lakh   \n",
       "...          ...                                     ...                 ...   \n",
       "5507        5507                 BMW X1 sDrive 20d xLine          28.90 Lakh   \n",
       "5508        5508                   BMW M Series M4 Coupe          64.90 Lakh   \n",
       "5509        5509              Jaguar XF 2.2 Litre Luxury          13.75 Lakh   \n",
       "5510        5510                      BMW 7 Series 730Ld          29.90 Lakh   \n",
       "5511        5511               BMW 5 Series 520d M Sport          31.90 Lakh   \n",
       "\n",
       "      kms_driven fuel_type transmission  ownership  manufacture   engine  \\\n",
       "0     86,226 kms    Diesel       Manual  1st Owner         2017  1956 cc   \n",
       "1     13,248 kms    Petrol    Automatic  1st Owner         2021  1330 cc   \n",
       "2     60,343 kms    Petrol    Automatic  1st Owner         2016  2494 cc   \n",
       "3     26,696 kms    Petrol    Automatic  1st Owner         2018  1199 cc   \n",
       "4     69,414 kms    Petrol       Manual  1st Owner         2016  1199 cc   \n",
       "...          ...       ...          ...        ...          ...      ...   \n",
       "5507  45,000 kms    Diesel    Automatic  1st Owner         2018  2995 cc   \n",
       "5508  29,000 kms    Petrol    Automatic  2nd Owner         2015  1968 cc   \n",
       "5509  90,000 kms    Diesel    Automatic  2nd Owner         2013  2755 cc   \n",
       "5510  79,000 kms    Diesel    Automatic  3rd Owner         2015  2967 cc   \n",
       "5511  42,000 kms    Diesel    Automatic  2nd Owner         2017  1991 cc   \n",
       "\n",
       "        Seats  \n",
       "0     5 Seats  \n",
       "1     5 Seats  \n",
       "2     5 Seats  \n",
       "3     5 Seats  \n",
       "4     5 Seats  \n",
       "...       ...  \n",
       "5507  7 Seats  \n",
       "5508  5 Seats  \n",
       "5509  5 Seats  \n",
       "5510  6 Seats  \n",
       "5511  5 Seats  \n",
       "\n",
       "[5512 rows x 10 columns]"
      ]
     },
     "execution_count": 3,
     "metadata": {},
     "output_type": "execute_result"
    }
   ],
   "source": [
    "car"
   ]
  },
  {
   "cell_type": "code",
   "execution_count": 4,
   "id": "b6befc0a",
   "metadata": {},
   "outputs": [
    {
     "name": "stdout",
     "output_type": "stream",
     "text": [
      "<class 'pandas.core.frame.DataFrame'>\n",
      "RangeIndex: 5512 entries, 0 to 5511\n",
      "Data columns (total 10 columns):\n",
      " #   Column               Non-Null Count  Dtype \n",
      "---  ------               --------------  ----- \n",
      " 0   Unnamed: 0           5512 non-null   int64 \n",
      " 1   car_name             5512 non-null   object\n",
      " 2   car_prices_in_rupee  5512 non-null   object\n",
      " 3   kms_driven           5512 non-null   object\n",
      " 4   fuel_type            5512 non-null   object\n",
      " 5   transmission         5512 non-null   object\n",
      " 6   ownership            5512 non-null   object\n",
      " 7   manufacture          5512 non-null   int64 \n",
      " 8   engine               5512 non-null   object\n",
      " 9   Seats                5512 non-null   object\n",
      "dtypes: int64(2), object(8)\n",
      "memory usage: 430.8+ KB\n"
     ]
    }
   ],
   "source": [
    "car.info()"
   ]
  },
  {
   "cell_type": "code",
   "execution_count": 5,
   "id": "4d931fb5",
   "metadata": {},
   "outputs": [
    {
     "data": {
      "text/html": [
       "<div>\n",
       "<style scoped>\n",
       "    .dataframe tbody tr th:only-of-type {\n",
       "        vertical-align: middle;\n",
       "    }\n",
       "\n",
       "    .dataframe tbody tr th {\n",
       "        vertical-align: top;\n",
       "    }\n",
       "\n",
       "    .dataframe thead th {\n",
       "        text-align: right;\n",
       "    }\n",
       "</style>\n",
       "<table border=\"1\" class=\"dataframe\">\n",
       "  <thead>\n",
       "    <tr style=\"text-align: right;\">\n",
       "      <th></th>\n",
       "      <th>Unnamed: 0</th>\n",
       "      <th>manufacture</th>\n",
       "    </tr>\n",
       "  </thead>\n",
       "  <tbody>\n",
       "    <tr>\n",
       "      <th>count</th>\n",
       "      <td>5512.000000</td>\n",
       "      <td>5512.000000</td>\n",
       "    </tr>\n",
       "    <tr>\n",
       "      <th>mean</th>\n",
       "      <td>2755.500000</td>\n",
       "      <td>2015.455552</td>\n",
       "    </tr>\n",
       "    <tr>\n",
       "      <th>std</th>\n",
       "      <td>1591.321673</td>\n",
       "      <td>3.927974</td>\n",
       "    </tr>\n",
       "    <tr>\n",
       "      <th>min</th>\n",
       "      <td>0.000000</td>\n",
       "      <td>1995.000000</td>\n",
       "    </tr>\n",
       "    <tr>\n",
       "      <th>25%</th>\n",
       "      <td>1377.750000</td>\n",
       "      <td>2013.000000</td>\n",
       "    </tr>\n",
       "    <tr>\n",
       "      <th>50%</th>\n",
       "      <td>2755.500000</td>\n",
       "      <td>2016.000000</td>\n",
       "    </tr>\n",
       "    <tr>\n",
       "      <th>75%</th>\n",
       "      <td>4133.250000</td>\n",
       "      <td>2018.000000</td>\n",
       "    </tr>\n",
       "    <tr>\n",
       "      <th>max</th>\n",
       "      <td>5511.000000</td>\n",
       "      <td>2022.000000</td>\n",
       "    </tr>\n",
       "  </tbody>\n",
       "</table>\n",
       "</div>"
      ],
      "text/plain": [
       "        Unnamed: 0  manufacture\n",
       "count  5512.000000  5512.000000\n",
       "mean   2755.500000  2015.455552\n",
       "std    1591.321673     3.927974\n",
       "min       0.000000  1995.000000\n",
       "25%    1377.750000  2013.000000\n",
       "50%    2755.500000  2016.000000\n",
       "75%    4133.250000  2018.000000\n",
       "max    5511.000000  2022.000000"
      ]
     },
     "execution_count": 5,
     "metadata": {},
     "output_type": "execute_result"
    }
   ],
   "source": [
    "car.describe()"
   ]
  },
  {
   "cell_type": "markdown",
   "id": "392f66ad",
   "metadata": {},
   "source": [
    "# Checking Null values"
   ]
  },
  {
   "cell_type": "code",
   "execution_count": 6,
   "id": "544d2b9e",
   "metadata": {},
   "outputs": [
    {
     "data": {
      "text/plain": [
       "Unnamed: 0             0\n",
       "car_name               0\n",
       "car_prices_in_rupee    0\n",
       "kms_driven             0\n",
       "fuel_type              0\n",
       "transmission           0\n",
       "ownership              0\n",
       "manufacture            0\n",
       "engine                 0\n",
       "Seats                  0\n",
       "dtype: int64"
      ]
     },
     "execution_count": 6,
     "metadata": {},
     "output_type": "execute_result"
    }
   ],
   "source": [
    "car.isnull().sum()"
   ]
  },
  {
   "cell_type": "markdown",
   "id": "3f2c9542",
   "metadata": {},
   "source": [
    "There are no null values in this dataset"
   ]
  },
  {
   "cell_type": "code",
   "execution_count": 7,
   "id": "a07a5b78",
   "metadata": {},
   "outputs": [
    {
     "data": {
      "text/plain": [
       "array(['1956 cc', '1330 cc', '2494 cc', '1199 cc', '1197 cc', '1498 cc',\n",
       "       '1497 cc', '1368 cc', '1396 cc', '1373 cc', '1198 cc', '1462 cc',\n",
       "       '799 cc', '998 cc', '1591 cc', '1999 cc', '999 cc', '814 cc',\n",
       "       '796 cc', '1353 cc', '1451 cc', '1995 cc', '1991 cc', '2179 cc',\n",
       "       '1798 cc', '1985 cc', '1968 cc', '2993 cc', '4134 cc', '1598 cc',\n",
       "       '936 cc', '1248 cc', '2143 cc', '1086 cc', '1998 cc', '2198 cc',\n",
       "       '2499 cc', '1496 cc', '1186 cc', '1582 cc', '1984 cc', '1997 cc',\n",
       "       '1969 cc', '1493 cc', '2755 cc', '1196 cc', '2953 cc', '2184 cc',\n",
       "       '1461 cc', '2987 cc', '1950 cc', '1395 cc', '2523 cc', '1193 cc',\n",
       "       '1061 cc', '1298 cc', '1586 cc', '993 cc', '2354 cc', '1405 cc',\n",
       "       '2967 cc', '0 cc', '2694 cc', '2696 cc', '2609 cc', '2998 cc',\n",
       "       '2477 cc', '2393 cc', '2982 cc', '2199 cc', '1799 cc', '3198 cc',\n",
       "       '1194 cc', '2997 cc', '1495 cc', '1794 cc', '2498 cc', '1364 cc',\n",
       "       '1388 cc', '2596 cc', '1173 cc', '1797 cc', '1499 cc', '1399 cc',\n",
       "       '4461 cc', '2400 cc', '1896 cc', '1796 cc', '3956 cc', '995 cc',\n",
       "       '2995 cc', '2487 cc', '624 cc', '1993 cc', '2925 cc', '1599 cc',\n",
       "       '1299 cc', '1120 cc', '2489 cc', '5461 cc', '3996 cc', '1595 cc',\n",
       "       '4367 cc', '1996 cc', '5950 cc', '2996 cc', '4663 cc', '1150 cc',\n",
       "       '2359 cc', '1422 cc', '1242 cc', '2698 cc', '2999 cc', '2894 cc',\n",
       "       '2360 cc', '5000 cc', '2835 cc', '1596 cc', '1047 cc', '2446 cc',\n",
       "       '909 cc', '2197 cc', '1527 cc', '1398 cc', '2994 cc', '2956 cc',\n",
       "       '1781 cc', '2497 cc', '1172 cc', '793 cc', '1341 cc', '1390 cc',\n",
       "       '1590 cc', '2157 cc', '3598 cc', '3200 cc', '3498 cc', '1332 cc',\n",
       "       '2979 cc'], dtype=object)"
      ]
     },
     "execution_count": 7,
     "metadata": {},
     "output_type": "execute_result"
    }
   ],
   "source": [
    "car['engine'].unique()"
   ]
  },
  {
   "cell_type": "code",
   "execution_count": 8,
   "id": "af8269b8",
   "metadata": {},
   "outputs": [
    {
     "data": {
      "text/plain": [
       "array(['10.03 Lakh', '12.83 Lakh', '16.40 Lakh', ..., '28.90 Lakh',\n",
       "       '64.90 Lakh', '31.90 Lakh'], dtype=object)"
      ]
     },
     "execution_count": 8,
     "metadata": {},
     "output_type": "execute_result"
    }
   ],
   "source": [
    "car['car_prices_in_rupee'].unique()"
   ]
  },
  {
   "cell_type": "markdown",
   "id": "b532bff4",
   "metadata": {},
   "source": [
    "# Column to Column analysis\n",
    "\n",
    "-remove unnamed column\n",
    "\n",
    "-make car price from object to int\n",
    "\n",
    "-make kms_driven from object to int\n",
    "\n",
    "-fuel-type,transmission,ownership are categorical columns\n",
    "\n",
    "-engine and seats are also categorical columns\n",
    "\n",
    "-we will take first 3 words in car_names column\n",
    "\n"
   ]
  },
  {
   "cell_type": "markdown",
   "id": "ebceb17a",
   "metadata": {},
   "source": [
    "# Data Cleaning and EDA"
   ]
  },
  {
   "cell_type": "code",
   "execution_count": 9,
   "id": "7a62c81d",
   "metadata": {},
   "outputs": [],
   "source": [
    "backup=car.copy()"
   ]
  },
  {
   "cell_type": "code",
   "execution_count": 10,
   "id": "0710d7c9",
   "metadata": {},
   "outputs": [],
   "source": [
    "car=car.drop(columns=['Unnamed: 0'])"
   ]
  },
  {
   "cell_type": "code",
   "execution_count": 11,
   "id": "d9a6f4f7",
   "metadata": {},
   "outputs": [
    {
     "data": {
      "text/plain": [
       "(5512, 9)"
      ]
     },
     "execution_count": 11,
     "metadata": {},
     "output_type": "execute_result"
    }
   ],
   "source": [
    "car.shape"
   ]
  },
  {
   "cell_type": "code",
   "execution_count": 12,
   "id": "9f3b5963",
   "metadata": {},
   "outputs": [],
   "source": [
    "#for car_name column"
   ]
  },
  {
   "cell_type": "code",
   "execution_count": 13,
   "id": "b60f8eec",
   "metadata": {},
   "outputs": [],
   "source": [
    "car['car_name']=car['car_name'].apply(lambda x: ' '.join(x.split(' ')[0:3]))"
   ]
  },
  {
   "cell_type": "code",
   "execution_count": 14,
   "id": "53cc0ba3",
   "metadata": {},
   "outputs": [
    {
     "data": {
      "text/html": [
       "<div>\n",
       "<style scoped>\n",
       "    .dataframe tbody tr th:only-of-type {\n",
       "        vertical-align: middle;\n",
       "    }\n",
       "\n",
       "    .dataframe tbody tr th {\n",
       "        vertical-align: top;\n",
       "    }\n",
       "\n",
       "    .dataframe thead th {\n",
       "        text-align: right;\n",
       "    }\n",
       "</style>\n",
       "<table border=\"1\" class=\"dataframe\">\n",
       "  <thead>\n",
       "    <tr style=\"text-align: right;\">\n",
       "      <th></th>\n",
       "      <th>car_name</th>\n",
       "      <th>car_prices_in_rupee</th>\n",
       "      <th>kms_driven</th>\n",
       "      <th>fuel_type</th>\n",
       "      <th>transmission</th>\n",
       "      <th>ownership</th>\n",
       "      <th>manufacture</th>\n",
       "      <th>engine</th>\n",
       "      <th>Seats</th>\n",
       "    </tr>\n",
       "  </thead>\n",
       "  <tbody>\n",
       "    <tr>\n",
       "      <th>0</th>\n",
       "      <td>Jeep Compass 2.0</td>\n",
       "      <td>10.03 Lakh</td>\n",
       "      <td>86,226 kms</td>\n",
       "      <td>Diesel</td>\n",
       "      <td>Manual</td>\n",
       "      <td>1st Owner</td>\n",
       "      <td>2017</td>\n",
       "      <td>1956 cc</td>\n",
       "      <td>5 Seats</td>\n",
       "    </tr>\n",
       "    <tr>\n",
       "      <th>1</th>\n",
       "      <td>Renault Duster RXZ</td>\n",
       "      <td>12.83 Lakh</td>\n",
       "      <td>13,248 kms</td>\n",
       "      <td>Petrol</td>\n",
       "      <td>Automatic</td>\n",
       "      <td>1st Owner</td>\n",
       "      <td>2021</td>\n",
       "      <td>1330 cc</td>\n",
       "      <td>5 Seats</td>\n",
       "    </tr>\n",
       "    <tr>\n",
       "      <th>2</th>\n",
       "      <td>Toyota Camry 2.5</td>\n",
       "      <td>16.40 Lakh</td>\n",
       "      <td>60,343 kms</td>\n",
       "      <td>Petrol</td>\n",
       "      <td>Automatic</td>\n",
       "      <td>1st Owner</td>\n",
       "      <td>2016</td>\n",
       "      <td>2494 cc</td>\n",
       "      <td>5 Seats</td>\n",
       "    </tr>\n",
       "  </tbody>\n",
       "</table>\n",
       "</div>"
      ],
      "text/plain": [
       "             car_name car_prices_in_rupee  kms_driven fuel_type transmission  \\\n",
       "0    Jeep Compass 2.0          10.03 Lakh  86,226 kms    Diesel       Manual   \n",
       "1  Renault Duster RXZ          12.83 Lakh  13,248 kms    Petrol    Automatic   \n",
       "2    Toyota Camry 2.5          16.40 Lakh  60,343 kms    Petrol    Automatic   \n",
       "\n",
       "   ownership  manufacture   engine    Seats  \n",
       "0  1st Owner         2017  1956 cc  5 Seats  \n",
       "1  1st Owner         2021  1330 cc  5 Seats  \n",
       "2  1st Owner         2016  2494 cc  5 Seats  "
      ]
     },
     "execution_count": 14,
     "metadata": {},
     "output_type": "execute_result"
    }
   ],
   "source": [
    "car.head(3)"
   ]
  },
  {
   "cell_type": "code",
   "execution_count": 15,
   "id": "040cdda8",
   "metadata": {},
   "outputs": [],
   "source": [
    "#for car_price column"
   ]
  },
  {
   "cell_type": "code",
   "execution_count": 16,
   "id": "31e1abd4",
   "metadata": {},
   "outputs": [],
   "source": [
    "car['car_prices_in_rupee']=car['car_prices_in_rupee'].apply(lambda x: x.replace(' Lakh','L'))"
   ]
  },
  {
   "cell_type": "code",
   "execution_count": 17,
   "id": "1b08ccb6",
   "metadata": {},
   "outputs": [],
   "source": [
    "def value_to_float(x):\n",
    "    if type(x)==float or type(x)==int:\n",
    "        return x\n",
    "    elif 'L' in x:\n",
    "        if len(x)>1:\n",
    "            return float(x.replace('L',''))*100000\n",
    "    return 0.0\n"
   ]
  },
  {
   "cell_type": "code",
   "execution_count": 18,
   "id": "70eb1cb0",
   "metadata": {},
   "outputs": [],
   "source": [
    "car['car_prices_in_rupee']=car['car_prices_in_rupee'].apply(value_to_float)"
   ]
  },
  {
   "cell_type": "code",
   "execution_count": 19,
   "id": "7a1e62f0",
   "metadata": {},
   "outputs": [],
   "source": [
    "car['car_prices_in_rupee']=car['car_prices_in_rupee'].astype(int)"
   ]
  },
  {
   "cell_type": "code",
   "execution_count": 20,
   "id": "7189ca0d",
   "metadata": {},
   "outputs": [
    {
     "data": {
      "text/html": [
       "<div>\n",
       "<style scoped>\n",
       "    .dataframe tbody tr th:only-of-type {\n",
       "        vertical-align: middle;\n",
       "    }\n",
       "\n",
       "    .dataframe tbody tr th {\n",
       "        vertical-align: top;\n",
       "    }\n",
       "\n",
       "    .dataframe thead th {\n",
       "        text-align: right;\n",
       "    }\n",
       "</style>\n",
       "<table border=\"1\" class=\"dataframe\">\n",
       "  <thead>\n",
       "    <tr style=\"text-align: right;\">\n",
       "      <th></th>\n",
       "      <th>car_name</th>\n",
       "      <th>car_prices_in_rupee</th>\n",
       "      <th>kms_driven</th>\n",
       "      <th>fuel_type</th>\n",
       "      <th>transmission</th>\n",
       "      <th>ownership</th>\n",
       "      <th>manufacture</th>\n",
       "      <th>engine</th>\n",
       "      <th>Seats</th>\n",
       "    </tr>\n",
       "  </thead>\n",
       "  <tbody>\n",
       "    <tr>\n",
       "      <th>0</th>\n",
       "      <td>Jeep Compass 2.0</td>\n",
       "      <td>1002999</td>\n",
       "      <td>86,226 kms</td>\n",
       "      <td>Diesel</td>\n",
       "      <td>Manual</td>\n",
       "      <td>1st Owner</td>\n",
       "      <td>2017</td>\n",
       "      <td>1956 cc</td>\n",
       "      <td>5 Seats</td>\n",
       "    </tr>\n",
       "    <tr>\n",
       "      <th>1</th>\n",
       "      <td>Renault Duster RXZ</td>\n",
       "      <td>1283000</td>\n",
       "      <td>13,248 kms</td>\n",
       "      <td>Petrol</td>\n",
       "      <td>Automatic</td>\n",
       "      <td>1st Owner</td>\n",
       "      <td>2021</td>\n",
       "      <td>1330 cc</td>\n",
       "      <td>5 Seats</td>\n",
       "    </tr>\n",
       "    <tr>\n",
       "      <th>2</th>\n",
       "      <td>Toyota Camry 2.5</td>\n",
       "      <td>1639999</td>\n",
       "      <td>60,343 kms</td>\n",
       "      <td>Petrol</td>\n",
       "      <td>Automatic</td>\n",
       "      <td>1st Owner</td>\n",
       "      <td>2016</td>\n",
       "      <td>2494 cc</td>\n",
       "      <td>5 Seats</td>\n",
       "    </tr>\n",
       "    <tr>\n",
       "      <th>3</th>\n",
       "      <td>Honda Jazz VX</td>\n",
       "      <td>777000</td>\n",
       "      <td>26,696 kms</td>\n",
       "      <td>Petrol</td>\n",
       "      <td>Automatic</td>\n",
       "      <td>1st Owner</td>\n",
       "      <td>2018</td>\n",
       "      <td>1199 cc</td>\n",
       "      <td>5 Seats</td>\n",
       "    </tr>\n",
       "    <tr>\n",
       "      <th>4</th>\n",
       "      <td>Volkswagen Polo 1.2</td>\n",
       "      <td>515000</td>\n",
       "      <td>69,414 kms</td>\n",
       "      <td>Petrol</td>\n",
       "      <td>Manual</td>\n",
       "      <td>1st Owner</td>\n",
       "      <td>2016</td>\n",
       "      <td>1199 cc</td>\n",
       "      <td>5 Seats</td>\n",
       "    </tr>\n",
       "    <tr>\n",
       "      <th>...</th>\n",
       "      <td>...</td>\n",
       "      <td>...</td>\n",
       "      <td>...</td>\n",
       "      <td>...</td>\n",
       "      <td>...</td>\n",
       "      <td>...</td>\n",
       "      <td>...</td>\n",
       "      <td>...</td>\n",
       "      <td>...</td>\n",
       "    </tr>\n",
       "    <tr>\n",
       "      <th>5507</th>\n",
       "      <td>BMW X1 sDrive</td>\n",
       "      <td>2890000</td>\n",
       "      <td>45,000 kms</td>\n",
       "      <td>Diesel</td>\n",
       "      <td>Automatic</td>\n",
       "      <td>1st Owner</td>\n",
       "      <td>2018</td>\n",
       "      <td>2995 cc</td>\n",
       "      <td>7 Seats</td>\n",
       "    </tr>\n",
       "    <tr>\n",
       "      <th>5508</th>\n",
       "      <td>BMW M Series</td>\n",
       "      <td>6490000</td>\n",
       "      <td>29,000 kms</td>\n",
       "      <td>Petrol</td>\n",
       "      <td>Automatic</td>\n",
       "      <td>2nd Owner</td>\n",
       "      <td>2015</td>\n",
       "      <td>1968 cc</td>\n",
       "      <td>5 Seats</td>\n",
       "    </tr>\n",
       "    <tr>\n",
       "      <th>5509</th>\n",
       "      <td>Jaguar XF 2.2</td>\n",
       "      <td>1375000</td>\n",
       "      <td>90,000 kms</td>\n",
       "      <td>Diesel</td>\n",
       "      <td>Automatic</td>\n",
       "      <td>2nd Owner</td>\n",
       "      <td>2013</td>\n",
       "      <td>2755 cc</td>\n",
       "      <td>5 Seats</td>\n",
       "    </tr>\n",
       "    <tr>\n",
       "      <th>5510</th>\n",
       "      <td>BMW 7 Series</td>\n",
       "      <td>2990000</td>\n",
       "      <td>79,000 kms</td>\n",
       "      <td>Diesel</td>\n",
       "      <td>Automatic</td>\n",
       "      <td>3rd Owner</td>\n",
       "      <td>2015</td>\n",
       "      <td>2967 cc</td>\n",
       "      <td>6 Seats</td>\n",
       "    </tr>\n",
       "    <tr>\n",
       "      <th>5511</th>\n",
       "      <td>BMW 5 Series</td>\n",
       "      <td>3190000</td>\n",
       "      <td>42,000 kms</td>\n",
       "      <td>Diesel</td>\n",
       "      <td>Automatic</td>\n",
       "      <td>2nd Owner</td>\n",
       "      <td>2017</td>\n",
       "      <td>1991 cc</td>\n",
       "      <td>5 Seats</td>\n",
       "    </tr>\n",
       "  </tbody>\n",
       "</table>\n",
       "<p>5512 rows × 9 columns</p>\n",
       "</div>"
      ],
      "text/plain": [
       "                 car_name  car_prices_in_rupee  kms_driven fuel_type  \\\n",
       "0        Jeep Compass 2.0              1002999  86,226 kms    Diesel   \n",
       "1      Renault Duster RXZ              1283000  13,248 kms    Petrol   \n",
       "2        Toyota Camry 2.5              1639999  60,343 kms    Petrol   \n",
       "3           Honda Jazz VX               777000  26,696 kms    Petrol   \n",
       "4     Volkswagen Polo 1.2               515000  69,414 kms    Petrol   \n",
       "...                   ...                  ...         ...       ...   \n",
       "5507        BMW X1 sDrive              2890000  45,000 kms    Diesel   \n",
       "5508         BMW M Series              6490000  29,000 kms    Petrol   \n",
       "5509        Jaguar XF 2.2              1375000  90,000 kms    Diesel   \n",
       "5510         BMW 7 Series              2990000  79,000 kms    Diesel   \n",
       "5511         BMW 5 Series              3190000  42,000 kms    Diesel   \n",
       "\n",
       "     transmission  ownership  manufacture   engine    Seats  \n",
       "0          Manual  1st Owner         2017  1956 cc  5 Seats  \n",
       "1       Automatic  1st Owner         2021  1330 cc  5 Seats  \n",
       "2       Automatic  1st Owner         2016  2494 cc  5 Seats  \n",
       "3       Automatic  1st Owner         2018  1199 cc  5 Seats  \n",
       "4          Manual  1st Owner         2016  1199 cc  5 Seats  \n",
       "...           ...        ...          ...      ...      ...  \n",
       "5507    Automatic  1st Owner         2018  2995 cc  7 Seats  \n",
       "5508    Automatic  2nd Owner         2015  1968 cc  5 Seats  \n",
       "5509    Automatic  2nd Owner         2013  2755 cc  5 Seats  \n",
       "5510    Automatic  3rd Owner         2015  2967 cc  6 Seats  \n",
       "5511    Automatic  2nd Owner         2017  1991 cc  5 Seats  \n",
       "\n",
       "[5512 rows x 9 columns]"
      ]
     },
     "execution_count": 20,
     "metadata": {},
     "output_type": "execute_result"
    }
   ],
   "source": [
    "car"
   ]
  },
  {
   "cell_type": "code",
   "execution_count": 21,
   "id": "17e662d1",
   "metadata": {},
   "outputs": [],
   "source": [
    "#for kms_driven column"
   ]
  },
  {
   "cell_type": "code",
   "execution_count": 22,
   "id": "1919f876",
   "metadata": {},
   "outputs": [],
   "source": [
    "car['kms_driven']=car['kms_driven'].str.split(' ').str.get(0).str.replace(',','')"
   ]
  },
  {
   "cell_type": "code",
   "execution_count": 23,
   "id": "b0280636",
   "metadata": {},
   "outputs": [],
   "source": [
    "car['kms_driven']=car['kms_driven'].astype(int)"
   ]
  },
  {
   "cell_type": "code",
   "execution_count": 24,
   "id": "bdd34646",
   "metadata": {},
   "outputs": [
    {
     "data": {
      "text/html": [
       "<div>\n",
       "<style scoped>\n",
       "    .dataframe tbody tr th:only-of-type {\n",
       "        vertical-align: middle;\n",
       "    }\n",
       "\n",
       "    .dataframe tbody tr th {\n",
       "        vertical-align: top;\n",
       "    }\n",
       "\n",
       "    .dataframe thead th {\n",
       "        text-align: right;\n",
       "    }\n",
       "</style>\n",
       "<table border=\"1\" class=\"dataframe\">\n",
       "  <thead>\n",
       "    <tr style=\"text-align: right;\">\n",
       "      <th></th>\n",
       "      <th>car_name</th>\n",
       "      <th>car_prices_in_rupee</th>\n",
       "      <th>kms_driven</th>\n",
       "      <th>fuel_type</th>\n",
       "      <th>transmission</th>\n",
       "      <th>ownership</th>\n",
       "      <th>manufacture</th>\n",
       "      <th>engine</th>\n",
       "      <th>Seats</th>\n",
       "    </tr>\n",
       "  </thead>\n",
       "  <tbody>\n",
       "    <tr>\n",
       "      <th>0</th>\n",
       "      <td>Jeep Compass 2.0</td>\n",
       "      <td>1002999</td>\n",
       "      <td>86226</td>\n",
       "      <td>Diesel</td>\n",
       "      <td>Manual</td>\n",
       "      <td>1st Owner</td>\n",
       "      <td>2017</td>\n",
       "      <td>1956 cc</td>\n",
       "      <td>5 Seats</td>\n",
       "    </tr>\n",
       "    <tr>\n",
       "      <th>1</th>\n",
       "      <td>Renault Duster RXZ</td>\n",
       "      <td>1283000</td>\n",
       "      <td>13248</td>\n",
       "      <td>Petrol</td>\n",
       "      <td>Automatic</td>\n",
       "      <td>1st Owner</td>\n",
       "      <td>2021</td>\n",
       "      <td>1330 cc</td>\n",
       "      <td>5 Seats</td>\n",
       "    </tr>\n",
       "    <tr>\n",
       "      <th>2</th>\n",
       "      <td>Toyota Camry 2.5</td>\n",
       "      <td>1639999</td>\n",
       "      <td>60343</td>\n",
       "      <td>Petrol</td>\n",
       "      <td>Automatic</td>\n",
       "      <td>1st Owner</td>\n",
       "      <td>2016</td>\n",
       "      <td>2494 cc</td>\n",
       "      <td>5 Seats</td>\n",
       "    </tr>\n",
       "    <tr>\n",
       "      <th>3</th>\n",
       "      <td>Honda Jazz VX</td>\n",
       "      <td>777000</td>\n",
       "      <td>26696</td>\n",
       "      <td>Petrol</td>\n",
       "      <td>Automatic</td>\n",
       "      <td>1st Owner</td>\n",
       "      <td>2018</td>\n",
       "      <td>1199 cc</td>\n",
       "      <td>5 Seats</td>\n",
       "    </tr>\n",
       "    <tr>\n",
       "      <th>4</th>\n",
       "      <td>Volkswagen Polo 1.2</td>\n",
       "      <td>515000</td>\n",
       "      <td>69414</td>\n",
       "      <td>Petrol</td>\n",
       "      <td>Manual</td>\n",
       "      <td>1st Owner</td>\n",
       "      <td>2016</td>\n",
       "      <td>1199 cc</td>\n",
       "      <td>5 Seats</td>\n",
       "    </tr>\n",
       "    <tr>\n",
       "      <th>...</th>\n",
       "      <td>...</td>\n",
       "      <td>...</td>\n",
       "      <td>...</td>\n",
       "      <td>...</td>\n",
       "      <td>...</td>\n",
       "      <td>...</td>\n",
       "      <td>...</td>\n",
       "      <td>...</td>\n",
       "      <td>...</td>\n",
       "    </tr>\n",
       "    <tr>\n",
       "      <th>5507</th>\n",
       "      <td>BMW X1 sDrive</td>\n",
       "      <td>2890000</td>\n",
       "      <td>45000</td>\n",
       "      <td>Diesel</td>\n",
       "      <td>Automatic</td>\n",
       "      <td>1st Owner</td>\n",
       "      <td>2018</td>\n",
       "      <td>2995 cc</td>\n",
       "      <td>7 Seats</td>\n",
       "    </tr>\n",
       "    <tr>\n",
       "      <th>5508</th>\n",
       "      <td>BMW M Series</td>\n",
       "      <td>6490000</td>\n",
       "      <td>29000</td>\n",
       "      <td>Petrol</td>\n",
       "      <td>Automatic</td>\n",
       "      <td>2nd Owner</td>\n",
       "      <td>2015</td>\n",
       "      <td>1968 cc</td>\n",
       "      <td>5 Seats</td>\n",
       "    </tr>\n",
       "    <tr>\n",
       "      <th>5509</th>\n",
       "      <td>Jaguar XF 2.2</td>\n",
       "      <td>1375000</td>\n",
       "      <td>90000</td>\n",
       "      <td>Diesel</td>\n",
       "      <td>Automatic</td>\n",
       "      <td>2nd Owner</td>\n",
       "      <td>2013</td>\n",
       "      <td>2755 cc</td>\n",
       "      <td>5 Seats</td>\n",
       "    </tr>\n",
       "    <tr>\n",
       "      <th>5510</th>\n",
       "      <td>BMW 7 Series</td>\n",
       "      <td>2990000</td>\n",
       "      <td>79000</td>\n",
       "      <td>Diesel</td>\n",
       "      <td>Automatic</td>\n",
       "      <td>3rd Owner</td>\n",
       "      <td>2015</td>\n",
       "      <td>2967 cc</td>\n",
       "      <td>6 Seats</td>\n",
       "    </tr>\n",
       "    <tr>\n",
       "      <th>5511</th>\n",
       "      <td>BMW 5 Series</td>\n",
       "      <td>3190000</td>\n",
       "      <td>42000</td>\n",
       "      <td>Diesel</td>\n",
       "      <td>Automatic</td>\n",
       "      <td>2nd Owner</td>\n",
       "      <td>2017</td>\n",
       "      <td>1991 cc</td>\n",
       "      <td>5 Seats</td>\n",
       "    </tr>\n",
       "  </tbody>\n",
       "</table>\n",
       "<p>5512 rows × 9 columns</p>\n",
       "</div>"
      ],
      "text/plain": [
       "                 car_name  car_prices_in_rupee  kms_driven fuel_type  \\\n",
       "0        Jeep Compass 2.0              1002999       86226    Diesel   \n",
       "1      Renault Duster RXZ              1283000       13248    Petrol   \n",
       "2        Toyota Camry 2.5              1639999       60343    Petrol   \n",
       "3           Honda Jazz VX               777000       26696    Petrol   \n",
       "4     Volkswagen Polo 1.2               515000       69414    Petrol   \n",
       "...                   ...                  ...         ...       ...   \n",
       "5507        BMW X1 sDrive              2890000       45000    Diesel   \n",
       "5508         BMW M Series              6490000       29000    Petrol   \n",
       "5509        Jaguar XF 2.2              1375000       90000    Diesel   \n",
       "5510         BMW 7 Series              2990000       79000    Diesel   \n",
       "5511         BMW 5 Series              3190000       42000    Diesel   \n",
       "\n",
       "     transmission  ownership  manufacture   engine    Seats  \n",
       "0          Manual  1st Owner         2017  1956 cc  5 Seats  \n",
       "1       Automatic  1st Owner         2021  1330 cc  5 Seats  \n",
       "2       Automatic  1st Owner         2016  2494 cc  5 Seats  \n",
       "3       Automatic  1st Owner         2018  1199 cc  5 Seats  \n",
       "4          Manual  1st Owner         2016  1199 cc  5 Seats  \n",
       "...           ...        ...          ...      ...      ...  \n",
       "5507    Automatic  1st Owner         2018  2995 cc  7 Seats  \n",
       "5508    Automatic  2nd Owner         2015  1968 cc  5 Seats  \n",
       "5509    Automatic  2nd Owner         2013  2755 cc  5 Seats  \n",
       "5510    Automatic  3rd Owner         2015  2967 cc  6 Seats  \n",
       "5511    Automatic  2nd Owner         2017  1991 cc  5 Seats  \n",
       "\n",
       "[5512 rows x 9 columns]"
      ]
     },
     "execution_count": 24,
     "metadata": {},
     "output_type": "execute_result"
    }
   ],
   "source": [
    "car"
   ]
  },
  {
   "cell_type": "code",
   "execution_count": 25,
   "id": "2de2c716",
   "metadata": {},
   "outputs": [],
   "source": [
    "car['age'] = 2023-car['manufacture']"
   ]
  },
  {
   "cell_type": "code",
   "execution_count": 26,
   "id": "1cbf4077",
   "metadata": {},
   "outputs": [],
   "source": [
    "car.drop(columns=['manufacture'],inplace=True)"
   ]
  },
  {
   "cell_type": "code",
   "execution_count": 27,
   "id": "2ee4e4c5",
   "metadata": {},
   "outputs": [
    {
     "data": {
      "text/plain": [
       "array(['1956 cc', '1330 cc', '2494 cc', '1199 cc', '1197 cc', '1498 cc',\n",
       "       '1497 cc', '1368 cc', '1396 cc', '1373 cc', '1198 cc', '1462 cc',\n",
       "       '799 cc', '998 cc', '1591 cc', '1999 cc', '999 cc', '814 cc',\n",
       "       '796 cc', '1353 cc', '1451 cc', '1995 cc', '1991 cc', '2179 cc',\n",
       "       '1798 cc', '1985 cc', '1968 cc', '2993 cc', '4134 cc', '1598 cc',\n",
       "       '936 cc', '1248 cc', '2143 cc', '1086 cc', '1998 cc', '2198 cc',\n",
       "       '2499 cc', '1496 cc', '1186 cc', '1582 cc', '1984 cc', '1997 cc',\n",
       "       '1969 cc', '1493 cc', '2755 cc', '1196 cc', '2953 cc', '2184 cc',\n",
       "       '1461 cc', '2987 cc', '1950 cc', '1395 cc', '2523 cc', '1193 cc',\n",
       "       '1061 cc', '1298 cc', '1586 cc', '993 cc', '2354 cc', '1405 cc',\n",
       "       '2967 cc', '0 cc', '2694 cc', '2696 cc', '2609 cc', '2998 cc',\n",
       "       '2477 cc', '2393 cc', '2982 cc', '2199 cc', '1799 cc', '3198 cc',\n",
       "       '1194 cc', '2997 cc', '1495 cc', '1794 cc', '2498 cc', '1364 cc',\n",
       "       '1388 cc', '2596 cc', '1173 cc', '1797 cc', '1499 cc', '1399 cc',\n",
       "       '4461 cc', '2400 cc', '1896 cc', '1796 cc', '3956 cc', '995 cc',\n",
       "       '2995 cc', '2487 cc', '624 cc', '1993 cc', '2925 cc', '1599 cc',\n",
       "       '1299 cc', '1120 cc', '2489 cc', '5461 cc', '3996 cc', '1595 cc',\n",
       "       '4367 cc', '1996 cc', '5950 cc', '2996 cc', '4663 cc', '1150 cc',\n",
       "       '2359 cc', '1422 cc', '1242 cc', '2698 cc', '2999 cc', '2894 cc',\n",
       "       '2360 cc', '5000 cc', '2835 cc', '1596 cc', '1047 cc', '2446 cc',\n",
       "       '909 cc', '2197 cc', '1527 cc', '1398 cc', '2994 cc', '2956 cc',\n",
       "       '1781 cc', '2497 cc', '1172 cc', '793 cc', '1341 cc', '1390 cc',\n",
       "       '1590 cc', '2157 cc', '3598 cc', '3200 cc', '3498 cc', '1332 cc',\n",
       "       '2979 cc'], dtype=object)"
      ]
     },
     "execution_count": 27,
     "metadata": {},
     "output_type": "execute_result"
    }
   ],
   "source": [
    "car['engine'].unique()"
   ]
  },
  {
   "cell_type": "code",
   "execution_count": 28,
   "id": "255baf96",
   "metadata": {},
   "outputs": [
    {
     "name": "stdout",
     "output_type": "stream",
     "text": [
      "<class 'pandas.core.frame.DataFrame'>\n",
      "RangeIndex: 5512 entries, 0 to 5511\n",
      "Data columns (total 9 columns):\n",
      " #   Column               Non-Null Count  Dtype \n",
      "---  ------               --------------  ----- \n",
      " 0   car_name             5512 non-null   object\n",
      " 1   car_prices_in_rupee  5512 non-null   int32 \n",
      " 2   kms_driven           5512 non-null   int32 \n",
      " 3   fuel_type            5512 non-null   object\n",
      " 4   transmission         5512 non-null   object\n",
      " 5   ownership            5512 non-null   object\n",
      " 6   engine               5512 non-null   object\n",
      " 7   Seats                5512 non-null   object\n",
      " 8   age                  5512 non-null   int64 \n",
      "dtypes: int32(2), int64(1), object(6)\n",
      "memory usage: 344.6+ KB\n"
     ]
    }
   ],
   "source": [
    "car.info()"
   ]
  },
  {
   "cell_type": "code",
   "execution_count": 29,
   "id": "b459ae14",
   "metadata": {},
   "outputs": [
    {
     "data": {
      "text/html": [
       "<div>\n",
       "<style scoped>\n",
       "    .dataframe tbody tr th:only-of-type {\n",
       "        vertical-align: middle;\n",
       "    }\n",
       "\n",
       "    .dataframe tbody tr th {\n",
       "        vertical-align: top;\n",
       "    }\n",
       "\n",
       "    .dataframe thead th {\n",
       "        text-align: right;\n",
       "    }\n",
       "</style>\n",
       "<table border=\"1\" class=\"dataframe\">\n",
       "  <thead>\n",
       "    <tr style=\"text-align: right;\">\n",
       "      <th></th>\n",
       "      <th>car_prices_in_rupee</th>\n",
       "      <th>kms_driven</th>\n",
       "      <th>age</th>\n",
       "    </tr>\n",
       "  </thead>\n",
       "  <tbody>\n",
       "    <tr>\n",
       "      <th>count</th>\n",
       "      <td>5.512000e+03</td>\n",
       "      <td>5512.000000</td>\n",
       "      <td>5512.000000</td>\n",
       "    </tr>\n",
       "    <tr>\n",
       "      <th>mean</th>\n",
       "      <td>1.008787e+06</td>\n",
       "      <td>63211.888062</td>\n",
       "      <td>7.544448</td>\n",
       "    </tr>\n",
       "    <tr>\n",
       "      <th>std</th>\n",
       "      <td>1.355785e+06</td>\n",
       "      <td>41844.131167</td>\n",
       "      <td>3.927974</td>\n",
       "    </tr>\n",
       "    <tr>\n",
       "      <th>min</th>\n",
       "      <td>0.000000e+00</td>\n",
       "      <td>250.000000</td>\n",
       "      <td>1.000000</td>\n",
       "    </tr>\n",
       "    <tr>\n",
       "      <th>25%</th>\n",
       "      <td>3.070000e+05</td>\n",
       "      <td>33151.750000</td>\n",
       "      <td>5.000000</td>\n",
       "    </tr>\n",
       "    <tr>\n",
       "      <th>50%</th>\n",
       "      <td>5.420000e+05</td>\n",
       "      <td>59000.000000</td>\n",
       "      <td>7.000000</td>\n",
       "    </tr>\n",
       "    <tr>\n",
       "      <th>75%</th>\n",
       "      <td>9.949990e+05</td>\n",
       "      <td>84265.250000</td>\n",
       "      <td>10.000000</td>\n",
       "    </tr>\n",
       "    <tr>\n",
       "      <th>max</th>\n",
       "      <td>9.500000e+06</td>\n",
       "      <td>560000.000000</td>\n",
       "      <td>28.000000</td>\n",
       "    </tr>\n",
       "  </tbody>\n",
       "</table>\n",
       "</div>"
      ],
      "text/plain": [
       "       car_prices_in_rupee     kms_driven          age\n",
       "count         5.512000e+03    5512.000000  5512.000000\n",
       "mean          1.008787e+06   63211.888062     7.544448\n",
       "std           1.355785e+06   41844.131167     3.927974\n",
       "min           0.000000e+00     250.000000     1.000000\n",
       "25%           3.070000e+05   33151.750000     5.000000\n",
       "50%           5.420000e+05   59000.000000     7.000000\n",
       "75%           9.949990e+05   84265.250000    10.000000\n",
       "max           9.500000e+06  560000.000000    28.000000"
      ]
     },
     "execution_count": 29,
     "metadata": {},
     "output_type": "execute_result"
    }
   ],
   "source": [
    "car.describe()"
   ]
  },
  {
   "cell_type": "code",
   "execution_count": 30,
   "id": "b39c3a69",
   "metadata": {},
   "outputs": [
    {
     "data": {
      "text/plain": [
       "<AxesSubplot:xlabel='kms_driven', ylabel='Density'>"
      ]
     },
     "execution_count": 30,
     "metadata": {},
     "output_type": "execute_result"
    },
    {
     "data": {
      "image/png": "[encoded data removed]",
      "text/plain": [
       "<Figure size 432x288 with 1 Axes>"
      ]
     },
     "metadata": {
      "needs_background": "light"
     },
     "output_type": "display_data"
    }
   ],
   "source": [
    "sns.distplot(car['kms_driven'])"
   ]
  },
  {
   "cell_type": "code",
   "execution_count": 31,
   "id": "c4c41d68",
   "metadata": {},
   "outputs": [
    {
     "data": {
      "text/plain": [
       "<AxesSubplot:xlabel='kms_driven'>"
      ]
     },
     "execution_count": 31,
     "metadata": {},
     "output_type": "execute_result"
    },
    {
     "data": {
      "image/png": "[encoded data removed]",
      "text/plain": [
       "<Figure size 432x288 with 1 Axes>"
      ]
     },
     "metadata": {
      "needs_background": "light"
     },
     "output_type": "display_data"
    }
   ],
   "source": [
    "sns.boxplot(car['kms_driven'])"
   ]
  },
  {
   "cell_type": "code",
   "execution_count": 32,
   "id": "7ada0207",
   "metadata": {},
   "outputs": [],
   "source": [
    "#To find IQR\n",
    "percentile25 = car['kms_driven'].quantile(0.25)\n",
    "percentile75 = car['kms_driven'].quantile(0.75)"
   ]
  },
  {
   "cell_type": "code",
   "execution_count": 33,
   "id": "7a1a3139",
   "metadata": {},
   "outputs": [
    {
     "data": {
      "text/plain": [
       "51113.5"
      ]
     },
     "execution_count": 33,
     "metadata": {},
     "output_type": "execute_result"
    }
   ],
   "source": [
    "iqr = percentile75-percentile25\n",
    "iqr"
   ]
  },
  {
   "cell_type": "code",
   "execution_count": 34,
   "id": "06995a97",
   "metadata": {},
   "outputs": [
    {
     "name": "stdout",
     "output_type": "stream",
     "text": [
      "upper_limit 160935.5\n",
      "lower_limit -43518.5\n"
     ]
    }
   ],
   "source": [
    "upper_limit = percentile75 + 1.5 * iqr\n",
    "lower_limit = percentile25 - 1.5 * iqr\n",
    "print(\"upper_limit\",upper_limit)\n",
    "print(\"lower_limit\",lower_limit)"
   ]
  },
  {
   "cell_type": "code",
   "execution_count": 35,
   "id": "6aa70e3e",
   "metadata": {},
   "outputs": [],
   "source": [
    "#trimming\n",
    "\n",
    "car = car[car['kms_driven'] < upper_limit]\n",
    "car = car[car['kms_driven'] > lower_limit]"
   ]
  },
  {
   "cell_type": "code",
   "execution_count": 36,
   "id": "e67d8869",
   "metadata": {},
   "outputs": [],
   "source": [
    "#capping method\n",
    "\n",
    "#car = car.copy()\n",
    "\n",
    "#car['kms_driven'] = np.where(\n",
    "#    car['kms_driven'] > upper_limit,\n",
    "#    upper_limit,\n",
    "#    np.where(\n",
    "#        car['kms_driven'] < lower_limit,\n",
    "#        lower_limit,\n",
    "#        car['kms_driven']\n",
    "#    )\n",
    "#)"
   ]
  },
  {
   "cell_type": "code",
   "execution_count": 37,
   "id": "a0a1d4e5",
   "metadata": {},
   "outputs": [
    {
     "data": {
      "text/plain": [
       "<AxesSubplot:xlabel='kms_driven', ylabel='Density'>"
      ]
     },
     "execution_count": 37,
     "metadata": {},
     "output_type": "execute_result"
    },
    {
     "data": {
      "image/png": "[encoded data removed]",
      "text/plain": [
       "<Figure size 432x288 with 1 Axes>"
      ]
     },
     "metadata": {
      "needs_background": "light"
     },
     "output_type": "display_data"
    }
   ],
   "source": [
    "sns.distplot(car['kms_driven'])"
   ]
  },
  {
   "cell_type": "code",
   "execution_count": 38,
   "id": "5120b202",
   "metadata": {},
   "outputs": [
    {
     "data": {
      "text/plain": [
       "<AxesSubplot:xlabel='age', ylabel='Density'>"
      ]
     },
     "execution_count": 38,
     "metadata": {},
     "output_type": "execute_result"
    },
    {
     "data": {
      "image/png": "[encoded data removed]",
      "text/plain": [
       "<Figure size 432x288 with 1 Axes>"
      ]
     },
     "metadata": {
      "needs_background": "light"
     },
     "output_type": "display_data"
    }
   ],
   "source": [
    "sns.distplot(car['age'])"
   ]
  },
  {
   "cell_type": "code",
   "execution_count": 39,
   "id": "80311a55",
   "metadata": {},
   "outputs": [
    {
     "data": {
      "text/plain": [
       "5.0"
      ]
     },
     "execution_count": 39,
     "metadata": {},
     "output_type": "execute_result"
    }
   ],
   "source": [
    "#To find IQR\n",
    "percentile25 = car['age'].quantile(0.25)\n",
    "percentile75 = car['age'].quantile(0.75)\n",
    "iqr = percentile75-percentile25\n",
    "iqr"
   ]
  },
  {
   "cell_type": "code",
   "execution_count": 40,
   "id": "c91a515b",
   "metadata": {},
   "outputs": [
    {
     "name": "stdout",
     "output_type": "stream",
     "text": [
      "upper_limit 17.5\n",
      "lower_limit -2.5\n"
     ]
    }
   ],
   "source": [
    "upper_limit = percentile75 + 1.5 * iqr\n",
    "lower_limit = percentile25 - 1.5 * iqr\n",
    "print(\"upper_limit\",upper_limit)\n",
    "print(\"lower_limit\",lower_limit)"
   ]
  },
  {
   "cell_type": "code",
   "execution_count": 41,
   "id": "2df27176",
   "metadata": {},
   "outputs": [],
   "source": [
    "#trimming\n",
    "\n",
    "car = car[car['age'] < upper_limit]\n",
    "car = car[car['age'] > lower_limit]"
   ]
  },
  {
   "cell_type": "code",
   "execution_count": 42,
   "id": "db1aa8c9",
   "metadata": {},
   "outputs": [
    {
     "data": {
      "text/plain": [
       "<AxesSubplot:xlabel='age', ylabel='Density'>"
      ]
     },
     "execution_count": 42,
     "metadata": {},
     "output_type": "execute_result"
    },
    {
     "data": {
      "image/png": "[encoded data removed]",
      "text/plain": [
       "<Figure size 432x288 with 1 Axes>"
      ]
     },
     "metadata": {
      "needs_background": "light"
     },
     "output_type": "display_data"
    }
   ],
   "source": [
    "sns.distplot(car['age'])"
   ]
  },
  {
   "cell_type": "code",
   "execution_count": 43,
   "id": "250fe192",
   "metadata": {},
   "outputs": [
    {
     "data": {
      "text/html": [
       "<div>\n",
       "<style scoped>\n",
       "    .dataframe tbody tr th:only-of-type {\n",
       "        vertical-align: middle;\n",
       "    }\n",
       "\n",
       "    .dataframe tbody tr th {\n",
       "        vertical-align: top;\n",
       "    }\n",
       "\n",
       "    .dataframe thead th {\n",
       "        text-align: right;\n",
       "    }\n",
       "</style>\n",
       "<table border=\"1\" class=\"dataframe\">\n",
       "  <thead>\n",
       "    <tr style=\"text-align: right;\">\n",
       "      <th></th>\n",
       "      <th>car_name</th>\n",
       "      <th>car_prices_in_rupee</th>\n",
       "      <th>kms_driven</th>\n",
       "      <th>fuel_type</th>\n",
       "      <th>transmission</th>\n",
       "      <th>ownership</th>\n",
       "      <th>engine</th>\n",
       "      <th>Seats</th>\n",
       "      <th>age</th>\n",
       "    </tr>\n",
       "  </thead>\n",
       "  <tbody>\n",
       "    <tr>\n",
       "      <th>0</th>\n",
       "      <td>Jeep Compass 2.0</td>\n",
       "      <td>1002999</td>\n",
       "      <td>86226</td>\n",
       "      <td>Diesel</td>\n",
       "      <td>Manual</td>\n",
       "      <td>1st Owner</td>\n",
       "      <td>1956 cc</td>\n",
       "      <td>5 Seats</td>\n",
       "      <td>6</td>\n",
       "    </tr>\n",
       "    <tr>\n",
       "      <th>1</th>\n",
       "      <td>Renault Duster RXZ</td>\n",
       "      <td>1283000</td>\n",
       "      <td>13248</td>\n",
       "      <td>Petrol</td>\n",
       "      <td>Automatic</td>\n",
       "      <td>1st Owner</td>\n",
       "      <td>1330 cc</td>\n",
       "      <td>5 Seats</td>\n",
       "      <td>2</td>\n",
       "    </tr>\n",
       "    <tr>\n",
       "      <th>2</th>\n",
       "      <td>Toyota Camry 2.5</td>\n",
       "      <td>1639999</td>\n",
       "      <td>60343</td>\n",
       "      <td>Petrol</td>\n",
       "      <td>Automatic</td>\n",
       "      <td>1st Owner</td>\n",
       "      <td>2494 cc</td>\n",
       "      <td>5 Seats</td>\n",
       "      <td>7</td>\n",
       "    </tr>\n",
       "    <tr>\n",
       "      <th>3</th>\n",
       "      <td>Honda Jazz VX</td>\n",
       "      <td>777000</td>\n",
       "      <td>26696</td>\n",
       "      <td>Petrol</td>\n",
       "      <td>Automatic</td>\n",
       "      <td>1st Owner</td>\n",
       "      <td>1199 cc</td>\n",
       "      <td>5 Seats</td>\n",
       "      <td>5</td>\n",
       "    </tr>\n",
       "    <tr>\n",
       "      <th>4</th>\n",
       "      <td>Volkswagen Polo 1.2</td>\n",
       "      <td>515000</td>\n",
       "      <td>69414</td>\n",
       "      <td>Petrol</td>\n",
       "      <td>Manual</td>\n",
       "      <td>1st Owner</td>\n",
       "      <td>1199 cc</td>\n",
       "      <td>5 Seats</td>\n",
       "      <td>7</td>\n",
       "    </tr>\n",
       "    <tr>\n",
       "      <th>...</th>\n",
       "      <td>...</td>\n",
       "      <td>...</td>\n",
       "      <td>...</td>\n",
       "      <td>...</td>\n",
       "      <td>...</td>\n",
       "      <td>...</td>\n",
       "      <td>...</td>\n",
       "      <td>...</td>\n",
       "      <td>...</td>\n",
       "    </tr>\n",
       "    <tr>\n",
       "      <th>5507</th>\n",
       "      <td>BMW X1 sDrive</td>\n",
       "      <td>2890000</td>\n",
       "      <td>45000</td>\n",
       "      <td>Diesel</td>\n",
       "      <td>Automatic</td>\n",
       "      <td>1st Owner</td>\n",
       "      <td>2995 cc</td>\n",
       "      <td>7 Seats</td>\n",
       "      <td>5</td>\n",
       "    </tr>\n",
       "    <tr>\n",
       "      <th>5508</th>\n",
       "      <td>BMW M Series</td>\n",
       "      <td>6490000</td>\n",
       "      <td>29000</td>\n",
       "      <td>Petrol</td>\n",
       "      <td>Automatic</td>\n",
       "      <td>2nd Owner</td>\n",
       "      <td>1968 cc</td>\n",
       "      <td>5 Seats</td>\n",
       "      <td>8</td>\n",
       "    </tr>\n",
       "    <tr>\n",
       "      <th>5509</th>\n",
       "      <td>Jaguar XF 2.2</td>\n",
       "      <td>1375000</td>\n",
       "      <td>90000</td>\n",
       "      <td>Diesel</td>\n",
       "      <td>Automatic</td>\n",
       "      <td>2nd Owner</td>\n",
       "      <td>2755 cc</td>\n",
       "      <td>5 Seats</td>\n",
       "      <td>10</td>\n",
       "    </tr>\n",
       "    <tr>\n",
       "      <th>5510</th>\n",
       "      <td>BMW 7 Series</td>\n",
       "      <td>2990000</td>\n",
       "      <td>79000</td>\n",
       "      <td>Diesel</td>\n",
       "      <td>Automatic</td>\n",
       "      <td>3rd Owner</td>\n",
       "      <td>2967 cc</td>\n",
       "      <td>6 Seats</td>\n",
       "      <td>8</td>\n",
       "    </tr>\n",
       "    <tr>\n",
       "      <th>5511</th>\n",
       "      <td>BMW 5 Series</td>\n",
       "      <td>3190000</td>\n",
       "      <td>42000</td>\n",
       "      <td>Diesel</td>\n",
       "      <td>Automatic</td>\n",
       "      <td>2nd Owner</td>\n",
       "      <td>1991 cc</td>\n",
       "      <td>5 Seats</td>\n",
       "      <td>6</td>\n",
       "    </tr>\n",
       "  </tbody>\n",
       "</table>\n",
       "<p>5327 rows × 9 columns</p>\n",
       "</div>"
      ],
      "text/plain": [
       "                 car_name  car_prices_in_rupee  kms_driven fuel_type  \\\n",
       "0        Jeep Compass 2.0              1002999       86226    Diesel   \n",
       "1      Renault Duster RXZ              1283000       13248    Petrol   \n",
       "2        Toyota Camry 2.5              1639999       60343    Petrol   \n",
       "3           Honda Jazz VX               777000       26696    Petrol   \n",
       "4     Volkswagen Polo 1.2               515000       69414    Petrol   \n",
       "...                   ...                  ...         ...       ...   \n",
       "5507        BMW X1 sDrive              2890000       45000    Diesel   \n",
       "5508         BMW M Series              6490000       29000    Petrol   \n",
       "5509        Jaguar XF 2.2              1375000       90000    Diesel   \n",
       "5510         BMW 7 Series              2990000       79000    Diesel   \n",
       "5511         BMW 5 Series              3190000       42000    Diesel   \n",
       "\n",
       "     transmission  ownership   engine    Seats  age  \n",
       "0          Manual  1st Owner  1956 cc  5 Seats    6  \n",
       "1       Automatic  1st Owner  1330 cc  5 Seats    2  \n",
       "2       Automatic  1st Owner  2494 cc  5 Seats    7  \n",
       "3       Automatic  1st Owner  1199 cc  5 Seats    5  \n",
       "4          Manual  1st Owner  1199 cc  5 Seats    7  \n",
       "...           ...        ...      ...      ...  ...  \n",
       "5507    Automatic  1st Owner  2995 cc  7 Seats    5  \n",
       "5508    Automatic  2nd Owner  1968 cc  5 Seats    8  \n",
       "5509    Automatic  2nd Owner  2755 cc  5 Seats   10  \n",
       "5510    Automatic  3rd Owner  2967 cc  6 Seats    8  \n",
       "5511    Automatic  2nd Owner  1991 cc  5 Seats    6  \n",
       "\n",
       "[5327 rows x 9 columns]"
      ]
     },
     "execution_count": 43,
     "metadata": {},
     "output_type": "execute_result"
    }
   ],
   "source": [
    "car"
   ]
  },
  {
   "cell_type": "code",
   "execution_count": null,
   "id": "b72d87cd",
   "metadata": {},
   "outputs": [],
   "source": []
  },
  {
   "cell_type": "code",
   "execution_count": null,
   "id": "dbfe6c89",
   "metadata": {},
   "outputs": [],
   "source": []
  },
  {
   "cell_type": "markdown",
   "id": "082ea5ee",
   "metadata": {},
   "source": [
    "# Analysis"
   ]
  },
  {
   "cell_type": "code",
   "execution_count": 44,
   "id": "a1a16820",
   "metadata": {},
   "outputs": [
    {
     "data": {
      "text/html": [
       "<div>\n",
       "<style scoped>\n",
       "    .dataframe tbody tr th:only-of-type {\n",
       "        vertical-align: middle;\n",
       "    }\n",
       "\n",
       "    .dataframe tbody tr th {\n",
       "        vertical-align: top;\n",
       "    }\n",
       "\n",
       "    .dataframe thead th {\n",
       "        text-align: right;\n",
       "    }\n",
       "</style>\n",
       "<table border=\"1\" class=\"dataframe\">\n",
       "  <thead>\n",
       "    <tr style=\"text-align: right;\">\n",
       "      <th></th>\n",
       "      <th>car_name</th>\n",
       "      <th>car_prices_in_rupee</th>\n",
       "      <th>kms_driven</th>\n",
       "      <th>fuel_type</th>\n",
       "      <th>transmission</th>\n",
       "      <th>ownership</th>\n",
       "      <th>engine</th>\n",
       "      <th>Seats</th>\n",
       "      <th>age</th>\n",
       "    </tr>\n",
       "  </thead>\n",
       "  <tbody>\n",
       "    <tr>\n",
       "      <th>0</th>\n",
       "      <td>Jeep Compass 2.0</td>\n",
       "      <td>1002999</td>\n",
       "      <td>86226</td>\n",
       "      <td>Diesel</td>\n",
       "      <td>Manual</td>\n",
       "      <td>1st Owner</td>\n",
       "      <td>1956 cc</td>\n",
       "      <td>5 Seats</td>\n",
       "      <td>6</td>\n",
       "    </tr>\n",
       "    <tr>\n",
       "      <th>1</th>\n",
       "      <td>Renault Duster RXZ</td>\n",
       "      <td>1283000</td>\n",
       "      <td>13248</td>\n",
       "      <td>Petrol</td>\n",
       "      <td>Automatic</td>\n",
       "      <td>1st Owner</td>\n",
       "      <td>1330 cc</td>\n",
       "      <td>5 Seats</td>\n",
       "      <td>2</td>\n",
       "    </tr>\n",
       "    <tr>\n",
       "      <th>2</th>\n",
       "      <td>Toyota Camry 2.5</td>\n",
       "      <td>1639999</td>\n",
       "      <td>60343</td>\n",
       "      <td>Petrol</td>\n",
       "      <td>Automatic</td>\n",
       "      <td>1st Owner</td>\n",
       "      <td>2494 cc</td>\n",
       "      <td>5 Seats</td>\n",
       "      <td>7</td>\n",
       "    </tr>\n",
       "    <tr>\n",
       "      <th>3</th>\n",
       "      <td>Honda Jazz VX</td>\n",
       "      <td>777000</td>\n",
       "      <td>26696</td>\n",
       "      <td>Petrol</td>\n",
       "      <td>Automatic</td>\n",
       "      <td>1st Owner</td>\n",
       "      <td>1199 cc</td>\n",
       "      <td>5 Seats</td>\n",
       "      <td>5</td>\n",
       "    </tr>\n",
       "    <tr>\n",
       "      <th>4</th>\n",
       "      <td>Volkswagen Polo 1.2</td>\n",
       "      <td>515000</td>\n",
       "      <td>69414</td>\n",
       "      <td>Petrol</td>\n",
       "      <td>Manual</td>\n",
       "      <td>1st Owner</td>\n",
       "      <td>1199 cc</td>\n",
       "      <td>5 Seats</td>\n",
       "      <td>7</td>\n",
       "    </tr>\n",
       "    <tr>\n",
       "      <th>5</th>\n",
       "      <td>Volkswagen Vento 1.2</td>\n",
       "      <td>766000</td>\n",
       "      <td>49719</td>\n",
       "      <td>Petrol</td>\n",
       "      <td>Automatic</td>\n",
       "      <td>1st Owner</td>\n",
       "      <td>1197 cc</td>\n",
       "      <td>5 Seats</td>\n",
       "      <td>6</td>\n",
       "    </tr>\n",
       "  </tbody>\n",
       "</table>\n",
       "</div>"
      ],
      "text/plain": [
       "               car_name  car_prices_in_rupee  kms_driven fuel_type  \\\n",
       "0      Jeep Compass 2.0              1002999       86226    Diesel   \n",
       "1    Renault Duster RXZ              1283000       13248    Petrol   \n",
       "2      Toyota Camry 2.5              1639999       60343    Petrol   \n",
       "3         Honda Jazz VX               777000       26696    Petrol   \n",
       "4   Volkswagen Polo 1.2               515000       69414    Petrol   \n",
       "5  Volkswagen Vento 1.2               766000       49719    Petrol   \n",
       "\n",
       "  transmission  ownership   engine    Seats  age  \n",
       "0       Manual  1st Owner  1956 cc  5 Seats    6  \n",
       "1    Automatic  1st Owner  1330 cc  5 Seats    2  \n",
       "2    Automatic  1st Owner  2494 cc  5 Seats    7  \n",
       "3    Automatic  1st Owner  1199 cc  5 Seats    5  \n",
       "4       Manual  1st Owner  1199 cc  5 Seats    7  \n",
       "5    Automatic  1st Owner  1197 cc  5 Seats    6  "
      ]
     },
     "execution_count": 44,
     "metadata": {},
     "output_type": "execute_result"
    }
   ],
   "source": [
    "car.head(6)"
   ]
  },
  {
   "cell_type": "code",
   "execution_count": 45,
   "id": "493070e7",
   "metadata": {},
   "outputs": [
    {
     "data": {
      "text/html": [
       "<div>\n",
       "<style scoped>\n",
       "    .dataframe tbody tr th:only-of-type {\n",
       "        vertical-align: middle;\n",
       "    }\n",
       "\n",
       "    .dataframe tbody tr th {\n",
       "        vertical-align: top;\n",
       "    }\n",
       "\n",
       "    .dataframe thead th {\n",
       "        text-align: right;\n",
       "    }\n",
       "</style>\n",
       "<table border=\"1\" class=\"dataframe\">\n",
       "  <thead>\n",
       "    <tr style=\"text-align: right;\">\n",
       "      <th></th>\n",
       "      <th>car_prices_in_rupee</th>\n",
       "      <th>kms_driven</th>\n",
       "      <th>age</th>\n",
       "    </tr>\n",
       "  </thead>\n",
       "  <tbody>\n",
       "    <tr>\n",
       "      <th>car_prices_in_rupee</th>\n",
       "      <td>1.000000</td>\n",
       "      <td>-0.290507</td>\n",
       "      <td>-0.399934</td>\n",
       "    </tr>\n",
       "    <tr>\n",
       "      <th>kms_driven</th>\n",
       "      <td>-0.290507</td>\n",
       "      <td>1.000000</td>\n",
       "      <td>0.542394</td>\n",
       "    </tr>\n",
       "    <tr>\n",
       "      <th>age</th>\n",
       "      <td>-0.399934</td>\n",
       "      <td>0.542394</td>\n",
       "      <td>1.000000</td>\n",
       "    </tr>\n",
       "  </tbody>\n",
       "</table>\n",
       "</div>"
      ],
      "text/plain": [
       "                     car_prices_in_rupee  kms_driven       age\n",
       "car_prices_in_rupee             1.000000   -0.290507 -0.399934\n",
       "kms_driven                     -0.290507    1.000000  0.542394\n",
       "age                            -0.399934    0.542394  1.000000"
      ]
     },
     "execution_count": 45,
     "metadata": {},
     "output_type": "execute_result"
    }
   ],
   "source": [
    "car.corr()"
   ]
  },
  {
   "cell_type": "code",
   "execution_count": 46,
   "id": "fd2f804f",
   "metadata": {},
   "outputs": [
    {
     "data": {
      "image/png": "[encoded data removed]",
      "text/plain": [
       "<Figure size 613.125x540 with 12 Axes>"
      ]
     },
     "metadata": {
      "needs_background": "light"
     },
     "output_type": "display_data"
    }
   ],
   "source": [
    "sns.pairplot(car,hue='fuel_type')\n",
    "plt.show()"
   ]
  },
  {
   "cell_type": "code",
   "execution_count": 47,
   "id": "30702255",
   "metadata": {},
   "outputs": [
    {
     "data": {
      "text/plain": [
       "<AxesSubplot:>"
      ]
     },
     "execution_count": 47,
     "metadata": {},
     "output_type": "execute_result"
    },
    {
     "data": {
      "image/png": "[encoded data removed]",
      "text/plain": [
       "<Figure size 432x288 with 2 Axes>"
      ]
     },
     "metadata": {
      "needs_background": "light"
     },
     "output_type": "display_data"
    }
   ],
   "source": [
    "sns.heatmap(car.corr())"
   ]
  },
  {
   "cell_type": "code",
   "execution_count": 48,
   "id": "b0fff25e",
   "metadata": {},
   "outputs": [
    {
     "data": {
      "text/plain": [
       "<AxesSubplot:xlabel='ownership', ylabel='Count'>"
      ]
     },
     "execution_count": 48,
     "metadata": {},
     "output_type": "execute_result"
    },
    {
     "data": {
      "image/png": "[encoded data removed]",
      "text/plain": [
       "<Figure size 432x288 with 1 Axes>"
      ]
     },
     "metadata": {
      "needs_background": "light"
     },
     "output_type": "display_data"
    }
   ],
   "source": [
    "sns.histplot(car['ownership'])"
   ]
  },
  {
   "cell_type": "markdown",
   "id": "97f84c68",
   "metadata": {},
   "source": [
    "Most of the cars are manufactured in 2010 to 2020 range"
   ]
  },
  {
   "cell_type": "code",
   "execution_count": 49,
   "id": "59ab1bf4",
   "metadata": {},
   "outputs": [
    {
     "data": {
      "text/html": [
       "<div>\n",
       "<style scoped>\n",
       "    .dataframe tbody tr th:only-of-type {\n",
       "        vertical-align: middle;\n",
       "    }\n",
       "\n",
       "    .dataframe tbody tr th {\n",
       "        vertical-align: top;\n",
       "    }\n",
       "\n",
       "    .dataframe thead th {\n",
       "        text-align: right;\n",
       "    }\n",
       "</style>\n",
       "<table border=\"1\" class=\"dataframe\">\n",
       "  <thead>\n",
       "    <tr style=\"text-align: right;\">\n",
       "      <th></th>\n",
       "      <th>car_name</th>\n",
       "      <th>car_prices_in_rupee</th>\n",
       "      <th>kms_driven</th>\n",
       "      <th>fuel_type</th>\n",
       "      <th>transmission</th>\n",
       "      <th>ownership</th>\n",
       "      <th>engine</th>\n",
       "      <th>Seats</th>\n",
       "      <th>age</th>\n",
       "    </tr>\n",
       "  </thead>\n",
       "  <tbody>\n",
       "    <tr>\n",
       "      <th>0</th>\n",
       "      <td>Jeep Compass 2.0</td>\n",
       "      <td>1002999</td>\n",
       "      <td>86226</td>\n",
       "      <td>Diesel</td>\n",
       "      <td>Manual</td>\n",
       "      <td>1st Owner</td>\n",
       "      <td>1956 cc</td>\n",
       "      <td>5 Seats</td>\n",
       "      <td>6</td>\n",
       "    </tr>\n",
       "    <tr>\n",
       "      <th>1</th>\n",
       "      <td>Renault Duster RXZ</td>\n",
       "      <td>1283000</td>\n",
       "      <td>13248</td>\n",
       "      <td>Petrol</td>\n",
       "      <td>Automatic</td>\n",
       "      <td>1st Owner</td>\n",
       "      <td>1330 cc</td>\n",
       "      <td>5 Seats</td>\n",
       "      <td>2</td>\n",
       "    </tr>\n",
       "    <tr>\n",
       "      <th>2</th>\n",
       "      <td>Toyota Camry 2.5</td>\n",
       "      <td>1639999</td>\n",
       "      <td>60343</td>\n",
       "      <td>Petrol</td>\n",
       "      <td>Automatic</td>\n",
       "      <td>1st Owner</td>\n",
       "      <td>2494 cc</td>\n",
       "      <td>5 Seats</td>\n",
       "      <td>7</td>\n",
       "    </tr>\n",
       "    <tr>\n",
       "      <th>3</th>\n",
       "      <td>Honda Jazz VX</td>\n",
       "      <td>777000</td>\n",
       "      <td>26696</td>\n",
       "      <td>Petrol</td>\n",
       "      <td>Automatic</td>\n",
       "      <td>1st Owner</td>\n",
       "      <td>1199 cc</td>\n",
       "      <td>5 Seats</td>\n",
       "      <td>5</td>\n",
       "    </tr>\n",
       "    <tr>\n",
       "      <th>4</th>\n",
       "      <td>Volkswagen Polo 1.2</td>\n",
       "      <td>515000</td>\n",
       "      <td>69414</td>\n",
       "      <td>Petrol</td>\n",
       "      <td>Manual</td>\n",
       "      <td>1st Owner</td>\n",
       "      <td>1199 cc</td>\n",
       "      <td>5 Seats</td>\n",
       "      <td>7</td>\n",
       "    </tr>\n",
       "    <tr>\n",
       "      <th>...</th>\n",
       "      <td>...</td>\n",
       "      <td>...</td>\n",
       "      <td>...</td>\n",
       "      <td>...</td>\n",
       "      <td>...</td>\n",
       "      <td>...</td>\n",
       "      <td>...</td>\n",
       "      <td>...</td>\n",
       "      <td>...</td>\n",
       "    </tr>\n",
       "    <tr>\n",
       "      <th>5507</th>\n",
       "      <td>BMW X1 sDrive</td>\n",
       "      <td>2890000</td>\n",
       "      <td>45000</td>\n",
       "      <td>Diesel</td>\n",
       "      <td>Automatic</td>\n",
       "      <td>1st Owner</td>\n",
       "      <td>2995 cc</td>\n",
       "      <td>7 Seats</td>\n",
       "      <td>5</td>\n",
       "    </tr>\n",
       "    <tr>\n",
       "      <th>5508</th>\n",
       "      <td>BMW M Series</td>\n",
       "      <td>6490000</td>\n",
       "      <td>29000</td>\n",
       "      <td>Petrol</td>\n",
       "      <td>Automatic</td>\n",
       "      <td>2nd Owner</td>\n",
       "      <td>1968 cc</td>\n",
       "      <td>5 Seats</td>\n",
       "      <td>8</td>\n",
       "    </tr>\n",
       "    <tr>\n",
       "      <th>5509</th>\n",
       "      <td>Jaguar XF 2.2</td>\n",
       "      <td>1375000</td>\n",
       "      <td>90000</td>\n",
       "      <td>Diesel</td>\n",
       "      <td>Automatic</td>\n",
       "      <td>2nd Owner</td>\n",
       "      <td>2755 cc</td>\n",
       "      <td>5 Seats</td>\n",
       "      <td>10</td>\n",
       "    </tr>\n",
       "    <tr>\n",
       "      <th>5510</th>\n",
       "      <td>BMW 7 Series</td>\n",
       "      <td>2990000</td>\n",
       "      <td>79000</td>\n",
       "      <td>Diesel</td>\n",
       "      <td>Automatic</td>\n",
       "      <td>3rd Owner</td>\n",
       "      <td>2967 cc</td>\n",
       "      <td>6 Seats</td>\n",
       "      <td>8</td>\n",
       "    </tr>\n",
       "    <tr>\n",
       "      <th>5511</th>\n",
       "      <td>BMW 5 Series</td>\n",
       "      <td>3190000</td>\n",
       "      <td>42000</td>\n",
       "      <td>Diesel</td>\n",
       "      <td>Automatic</td>\n",
       "      <td>2nd Owner</td>\n",
       "      <td>1991 cc</td>\n",
       "      <td>5 Seats</td>\n",
       "      <td>6</td>\n",
       "    </tr>\n",
       "  </tbody>\n",
       "</table>\n",
       "<p>5327 rows × 9 columns</p>\n",
       "</div>"
      ],
      "text/plain": [
       "                 car_name  car_prices_in_rupee  kms_driven fuel_type  \\\n",
       "0        Jeep Compass 2.0              1002999       86226    Diesel   \n",
       "1      Renault Duster RXZ              1283000       13248    Petrol   \n",
       "2        Toyota Camry 2.5              1639999       60343    Petrol   \n",
       "3           Honda Jazz VX               777000       26696    Petrol   \n",
       "4     Volkswagen Polo 1.2               515000       69414    Petrol   \n",
       "...                   ...                  ...         ...       ...   \n",
       "5507        BMW X1 sDrive              2890000       45000    Diesel   \n",
       "5508         BMW M Series              6490000       29000    Petrol   \n",
       "5509        Jaguar XF 2.2              1375000       90000    Diesel   \n",
       "5510         BMW 7 Series              2990000       79000    Diesel   \n",
       "5511         BMW 5 Series              3190000       42000    Diesel   \n",
       "\n",
       "     transmission  ownership   engine    Seats  age  \n",
       "0          Manual  1st Owner  1956 cc  5 Seats    6  \n",
       "1       Automatic  1st Owner  1330 cc  5 Seats    2  \n",
       "2       Automatic  1st Owner  2494 cc  5 Seats    7  \n",
       "3       Automatic  1st Owner  1199 cc  5 Seats    5  \n",
       "4          Manual  1st Owner  1199 cc  5 Seats    7  \n",
       "...           ...        ...      ...      ...  ...  \n",
       "5507    Automatic  1st Owner  2995 cc  7 Seats    5  \n",
       "5508    Automatic  2nd Owner  1968 cc  5 Seats    8  \n",
       "5509    Automatic  2nd Owner  2755 cc  5 Seats   10  \n",
       "5510    Automatic  3rd Owner  2967 cc  6 Seats    8  \n",
       "5511    Automatic  2nd Owner  1991 cc  5 Seats    6  \n",
       "\n",
       "[5327 rows x 9 columns]"
      ]
     },
     "execution_count": 49,
     "metadata": {},
     "output_type": "execute_result"
    }
   ],
   "source": [
    "car"
   ]
  },
  {
   "cell_type": "code",
   "execution_count": 50,
   "id": "b846366f",
   "metadata": {},
   "outputs": [],
   "source": [
    "car.to_csv('Cleaned_car.csv')"
   ]
  },
  {
   "cell_type": "markdown",
   "id": "cc3cfc9d",
   "metadata": {},
   "source": [
    "# Data Preprocessing"
   ]
  },
  {
   "cell_type": "code",
   "execution_count": 51,
   "id": "5d9e295a",
   "metadata": {},
   "outputs": [],
   "source": [
    "#Encoding"
   ]
  },
  {
   "cell_type": "code",
   "execution_count": 52,
   "id": "e669d111",
   "metadata": {},
   "outputs": [
    {
     "data": {
      "text/html": [
       "<div>\n",
       "<style scoped>\n",
       "    .dataframe tbody tr th:only-of-type {\n",
       "        vertical-align: middle;\n",
       "    }\n",
       "\n",
       "    .dataframe tbody tr th {\n",
       "        vertical-align: top;\n",
       "    }\n",
       "\n",
       "    .dataframe thead th {\n",
       "        text-align: right;\n",
       "    }\n",
       "</style>\n",
       "<table border=\"1\" class=\"dataframe\">\n",
       "  <thead>\n",
       "    <tr style=\"text-align: right;\">\n",
       "      <th></th>\n",
       "      <th>car_name</th>\n",
       "      <th>car_prices_in_rupee</th>\n",
       "      <th>kms_driven</th>\n",
       "      <th>fuel_type</th>\n",
       "      <th>transmission</th>\n",
       "      <th>ownership</th>\n",
       "      <th>engine</th>\n",
       "      <th>Seats</th>\n",
       "      <th>age</th>\n",
       "    </tr>\n",
       "  </thead>\n",
       "  <tbody>\n",
       "    <tr>\n",
       "      <th>0</th>\n",
       "      <td>Jeep Compass 2.0</td>\n",
       "      <td>1002999</td>\n",
       "      <td>86226</td>\n",
       "      <td>Diesel</td>\n",
       "      <td>Manual</td>\n",
       "      <td>1st Owner</td>\n",
       "      <td>1956 cc</td>\n",
       "      <td>5 Seats</td>\n",
       "      <td>6</td>\n",
       "    </tr>\n",
       "    <tr>\n",
       "      <th>1</th>\n",
       "      <td>Renault Duster RXZ</td>\n",
       "      <td>1283000</td>\n",
       "      <td>13248</td>\n",
       "      <td>Petrol</td>\n",
       "      <td>Automatic</td>\n",
       "      <td>1st Owner</td>\n",
       "      <td>1330 cc</td>\n",
       "      <td>5 Seats</td>\n",
       "      <td>2</td>\n",
       "    </tr>\n",
       "    <tr>\n",
       "      <th>2</th>\n",
       "      <td>Toyota Camry 2.5</td>\n",
       "      <td>1639999</td>\n",
       "      <td>60343</td>\n",
       "      <td>Petrol</td>\n",
       "      <td>Automatic</td>\n",
       "      <td>1st Owner</td>\n",
       "      <td>2494 cc</td>\n",
       "      <td>5 Seats</td>\n",
       "      <td>7</td>\n",
       "    </tr>\n",
       "    <tr>\n",
       "      <th>3</th>\n",
       "      <td>Honda Jazz VX</td>\n",
       "      <td>777000</td>\n",
       "      <td>26696</td>\n",
       "      <td>Petrol</td>\n",
       "      <td>Automatic</td>\n",
       "      <td>1st Owner</td>\n",
       "      <td>1199 cc</td>\n",
       "      <td>5 Seats</td>\n",
       "      <td>5</td>\n",
       "    </tr>\n",
       "    <tr>\n",
       "      <th>4</th>\n",
       "      <td>Volkswagen Polo 1.2</td>\n",
       "      <td>515000</td>\n",
       "      <td>69414</td>\n",
       "      <td>Petrol</td>\n",
       "      <td>Manual</td>\n",
       "      <td>1st Owner</td>\n",
       "      <td>1199 cc</td>\n",
       "      <td>5 Seats</td>\n",
       "      <td>7</td>\n",
       "    </tr>\n",
       "    <tr>\n",
       "      <th>...</th>\n",
       "      <td>...</td>\n",
       "      <td>...</td>\n",
       "      <td>...</td>\n",
       "      <td>...</td>\n",
       "      <td>...</td>\n",
       "      <td>...</td>\n",
       "      <td>...</td>\n",
       "      <td>...</td>\n",
       "      <td>...</td>\n",
       "    </tr>\n",
       "    <tr>\n",
       "      <th>5507</th>\n",
       "      <td>BMW X1 sDrive</td>\n",
       "      <td>2890000</td>\n",
       "      <td>45000</td>\n",
       "      <td>Diesel</td>\n",
       "      <td>Automatic</td>\n",
       "      <td>1st Owner</td>\n",
       "      <td>2995 cc</td>\n",
       "      <td>7 Seats</td>\n",
       "      <td>5</td>\n",
       "    </tr>\n",
       "    <tr>\n",
       "      <th>5508</th>\n",
       "      <td>BMW M Series</td>\n",
       "      <td>6490000</td>\n",
       "      <td>29000</td>\n",
       "      <td>Petrol</td>\n",
       "      <td>Automatic</td>\n",
       "      <td>2nd Owner</td>\n",
       "      <td>1968 cc</td>\n",
       "      <td>5 Seats</td>\n",
       "      <td>8</td>\n",
       "    </tr>\n",
       "    <tr>\n",
       "      <th>5509</th>\n",
       "      <td>Jaguar XF 2.2</td>\n",
       "      <td>1375000</td>\n",
       "      <td>90000</td>\n",
       "      <td>Diesel</td>\n",
       "      <td>Automatic</td>\n",
       "      <td>2nd Owner</td>\n",
       "      <td>2755 cc</td>\n",
       "      <td>5 Seats</td>\n",
       "      <td>10</td>\n",
       "    </tr>\n",
       "    <tr>\n",
       "      <th>5510</th>\n",
       "      <td>BMW 7 Series</td>\n",
       "      <td>2990000</td>\n",
       "      <td>79000</td>\n",
       "      <td>Diesel</td>\n",
       "      <td>Automatic</td>\n",
       "      <td>3rd Owner</td>\n",
       "      <td>2967 cc</td>\n",
       "      <td>6 Seats</td>\n",
       "      <td>8</td>\n",
       "    </tr>\n",
       "    <tr>\n",
       "      <th>5511</th>\n",
       "      <td>BMW 5 Series</td>\n",
       "      <td>3190000</td>\n",
       "      <td>42000</td>\n",
       "      <td>Diesel</td>\n",
       "      <td>Automatic</td>\n",
       "      <td>2nd Owner</td>\n",
       "      <td>1991 cc</td>\n",
       "      <td>5 Seats</td>\n",
       "      <td>6</td>\n",
       "    </tr>\n",
       "  </tbody>\n",
       "</table>\n",
       "<p>5327 rows × 9 columns</p>\n",
       "</div>"
      ],
      "text/plain": [
       "                 car_name  car_prices_in_rupee  kms_driven fuel_type  \\\n",
       "0        Jeep Compass 2.0              1002999       86226    Diesel   \n",
       "1      Renault Duster RXZ              1283000       13248    Petrol   \n",
       "2        Toyota Camry 2.5              1639999       60343    Petrol   \n",
       "3           Honda Jazz VX               777000       26696    Petrol   \n",
       "4     Volkswagen Polo 1.2               515000       69414    Petrol   \n",
       "...                   ...                  ...         ...       ...   \n",
       "5507        BMW X1 sDrive              2890000       45000    Diesel   \n",
       "5508         BMW M Series              6490000       29000    Petrol   \n",
       "5509        Jaguar XF 2.2              1375000       90000    Diesel   \n",
       "5510         BMW 7 Series              2990000       79000    Diesel   \n",
       "5511         BMW 5 Series              3190000       42000    Diesel   \n",
       "\n",
       "     transmission  ownership   engine    Seats  age  \n",
       "0          Manual  1st Owner  1956 cc  5 Seats    6  \n",
       "1       Automatic  1st Owner  1330 cc  5 Seats    2  \n",
       "2       Automatic  1st Owner  2494 cc  5 Seats    7  \n",
       "3       Automatic  1st Owner  1199 cc  5 Seats    5  \n",
       "4          Manual  1st Owner  1199 cc  5 Seats    7  \n",
       "...           ...        ...      ...      ...  ...  \n",
       "5507    Automatic  1st Owner  2995 cc  7 Seats    5  \n",
       "5508    Automatic  2nd Owner  1968 cc  5 Seats    8  \n",
       "5509    Automatic  2nd Owner  2755 cc  5 Seats   10  \n",
       "5510    Automatic  3rd Owner  2967 cc  6 Seats    8  \n",
       "5511    Automatic  2nd Owner  1991 cc  5 Seats    6  \n",
       "\n",
       "[5327 rows x 9 columns]"
      ]
     },
     "execution_count": 52,
     "metadata": {},
     "output_type": "execute_result"
    }
   ],
   "source": [
    "car"
   ]
  },
  {
   "cell_type": "code",
   "execution_count": 53,
   "id": "83ce9b7f",
   "metadata": {},
   "outputs": [
    {
     "name": "stdout",
     "output_type": "stream",
     "text": [
      "<class 'pandas.core.frame.DataFrame'>\n",
      "Int64Index: 5327 entries, 0 to 5511\n",
      "Data columns (total 9 columns):\n",
      " #   Column               Non-Null Count  Dtype \n",
      "---  ------               --------------  ----- \n",
      " 0   car_name             5327 non-null   object\n",
      " 1   car_prices_in_rupee  5327 non-null   int32 \n",
      " 2   kms_driven           5327 non-null   int32 \n",
      " 3   fuel_type            5327 non-null   object\n",
      " 4   transmission         5327 non-null   object\n",
      " 5   ownership            5327 non-null   object\n",
      " 6   engine               5327 non-null   object\n",
      " 7   Seats                5327 non-null   object\n",
      " 8   age                  5327 non-null   int64 \n",
      "dtypes: int32(2), int64(1), object(6)\n",
      "memory usage: 503.6+ KB\n"
     ]
    }
   ],
   "source": [
    "car.info()"
   ]
  },
  {
   "cell_type": "code",
   "execution_count": 54,
   "id": "98e2b26e",
   "metadata": {},
   "outputs": [],
   "source": [
    "from sklearn.preprocessing import LabelEncoder"
   ]
  },
  {
   "cell_type": "code",
   "execution_count": 55,
   "id": "59e2ea70",
   "metadata": {},
   "outputs": [],
   "source": [
    "le=LabelEncoder()"
   ]
  },
  {
   "cell_type": "code",
   "execution_count": 56,
   "id": "75b50796",
   "metadata": {},
   "outputs": [],
   "source": [
    "object_tc=car.select_dtypes(include='object').columns\n",
    "for i in object_tc:\n",
    "    car[i]=le.fit_transform(car[i])"
   ]
  },
  {
   "cell_type": "code",
   "execution_count": 57,
   "id": "9cbb7391",
   "metadata": {},
   "outputs": [
    {
     "data": {
      "text/html": [
       "<div>\n",
       "<style scoped>\n",
       "    .dataframe tbody tr th:only-of-type {\n",
       "        vertical-align: middle;\n",
       "    }\n",
       "\n",
       "    .dataframe tbody tr th {\n",
       "        vertical-align: top;\n",
       "    }\n",
       "\n",
       "    .dataframe thead th {\n",
       "        text-align: right;\n",
       "    }\n",
       "</style>\n",
       "<table border=\"1\" class=\"dataframe\">\n",
       "  <thead>\n",
       "    <tr style=\"text-align: right;\">\n",
       "      <th></th>\n",
       "      <th>car_name</th>\n",
       "      <th>car_prices_in_rupee</th>\n",
       "      <th>kms_driven</th>\n",
       "      <th>fuel_type</th>\n",
       "      <th>transmission</th>\n",
       "      <th>ownership</th>\n",
       "      <th>engine</th>\n",
       "      <th>Seats</th>\n",
       "      <th>age</th>\n",
       "    </tr>\n",
       "  </thead>\n",
       "  <tbody>\n",
       "    <tr>\n",
       "      <th>0</th>\n",
       "      <td>234</td>\n",
       "      <td>1002999</td>\n",
       "      <td>86226</td>\n",
       "      <td>1</td>\n",
       "      <td>1</td>\n",
       "      <td>1</td>\n",
       "      <td>60</td>\n",
       "      <td>2</td>\n",
       "      <td>6</td>\n",
       "    </tr>\n",
       "    <tr>\n",
       "      <th>1</th>\n",
       "      <td>503</td>\n",
       "      <td>1283000</td>\n",
       "      <td>13248</td>\n",
       "      <td>4</td>\n",
       "      <td>0</td>\n",
       "      <td>1</td>\n",
       "      <td>19</td>\n",
       "      <td>2</td>\n",
       "      <td>2</td>\n",
       "    </tr>\n",
       "    <tr>\n",
       "      <th>2</th>\n",
       "      <td>614</td>\n",
       "      <td>1639999</td>\n",
       "      <td>60343</td>\n",
       "      <td>4</td>\n",
       "      <td>0</td>\n",
       "      <td>1</td>\n",
       "      <td>88</td>\n",
       "      <td>2</td>\n",
       "      <td>7</td>\n",
       "    </tr>\n",
       "    <tr>\n",
       "      <th>3</th>\n",
       "      <td>150</td>\n",
       "      <td>777000</td>\n",
       "      <td>26696</td>\n",
       "      <td>4</td>\n",
       "      <td>0</td>\n",
       "      <td>1</td>\n",
       "      <td>14</td>\n",
       "      <td>2</td>\n",
       "      <td>5</td>\n",
       "    </tr>\n",
       "    <tr>\n",
       "      <th>4</th>\n",
       "      <td>657</td>\n",
       "      <td>515000</td>\n",
       "      <td>69414</td>\n",
       "      <td>4</td>\n",
       "      <td>1</td>\n",
       "      <td>1</td>\n",
       "      <td>14</td>\n",
       "      <td>2</td>\n",
       "      <td>7</td>\n",
       "    </tr>\n",
       "    <tr>\n",
       "      <th>...</th>\n",
       "      <td>...</td>\n",
       "      <td>...</td>\n",
       "      <td>...</td>\n",
       "      <td>...</td>\n",
       "      <td>...</td>\n",
       "      <td>...</td>\n",
       "      <td>...</td>\n",
       "      <td>...</td>\n",
       "      <td>...</td>\n",
       "    </tr>\n",
       "    <tr>\n",
       "      <th>5507</th>\n",
       "      <td>34</td>\n",
       "      <td>2890000</td>\n",
       "      <td>45000</td>\n",
       "      <td>1</td>\n",
       "      <td>0</td>\n",
       "      <td>1</td>\n",
       "      <td>110</td>\n",
       "      <td>4</td>\n",
       "      <td>5</td>\n",
       "    </tr>\n",
       "    <tr>\n",
       "      <th>5508</th>\n",
       "      <td>33</td>\n",
       "      <td>6490000</td>\n",
       "      <td>29000</td>\n",
       "      <td>4</td>\n",
       "      <td>0</td>\n",
       "      <td>2</td>\n",
       "      <td>61</td>\n",
       "      <td>2</td>\n",
       "      <td>8</td>\n",
       "    </tr>\n",
       "    <tr>\n",
       "      <th>5509</th>\n",
       "      <td>229</td>\n",
       "      <td>1375000</td>\n",
       "      <td>90000</td>\n",
       "      <td>1</td>\n",
       "      <td>0</td>\n",
       "      <td>2</td>\n",
       "      <td>98</td>\n",
       "      <td>2</td>\n",
       "      <td>10</td>\n",
       "    </tr>\n",
       "    <tr>\n",
       "      <th>5510</th>\n",
       "      <td>32</td>\n",
       "      <td>2990000</td>\n",
       "      <td>79000</td>\n",
       "      <td>1</td>\n",
       "      <td>0</td>\n",
       "      <td>3</td>\n",
       "      <td>104</td>\n",
       "      <td>3</td>\n",
       "      <td>8</td>\n",
       "    </tr>\n",
       "    <tr>\n",
       "      <th>5511</th>\n",
       "      <td>30</td>\n",
       "      <td>3190000</td>\n",
       "      <td>42000</td>\n",
       "      <td>1</td>\n",
       "      <td>0</td>\n",
       "      <td>2</td>\n",
       "      <td>65</td>\n",
       "      <td>2</td>\n",
       "      <td>6</td>\n",
       "    </tr>\n",
       "  </tbody>\n",
       "</table>\n",
       "<p>5327 rows × 9 columns</p>\n",
       "</div>"
      ],
      "text/plain": [
       "      car_name  car_prices_in_rupee  kms_driven  fuel_type  transmission  \\\n",
       "0          234              1002999       86226          1             1   \n",
       "1          503              1283000       13248          4             0   \n",
       "2          614              1639999       60343          4             0   \n",
       "3          150               777000       26696          4             0   \n",
       "4          657               515000       69414          4             1   \n",
       "...        ...                  ...         ...        ...           ...   \n",
       "5507        34              2890000       45000          1             0   \n",
       "5508        33              6490000       29000          4             0   \n",
       "5509       229              1375000       90000          1             0   \n",
       "5510        32              2990000       79000          1             0   \n",
       "5511        30              3190000       42000          1             0   \n",
       "\n",
       "      ownership  engine  Seats  age  \n",
       "0             1      60      2    6  \n",
       "1             1      19      2    2  \n",
       "2             1      88      2    7  \n",
       "3             1      14      2    5  \n",
       "4             1      14      2    7  \n",
       "...         ...     ...    ...  ...  \n",
       "5507          1     110      4    5  \n",
       "5508          2      61      2    8  \n",
       "5509          2      98      2   10  \n",
       "5510          3     104      3    8  \n",
       "5511          2      65      2    6  \n",
       "\n",
       "[5327 rows x 9 columns]"
      ]
     },
     "execution_count": 57,
     "metadata": {},
     "output_type": "execute_result"
    }
   ],
   "source": [
    "car"
   ]
  },
  {
   "cell_type": "code",
   "execution_count": 58,
   "id": "58a4f559",
   "metadata": {},
   "outputs": [],
   "source": [
    "#Train Test split"
   ]
  },
  {
   "cell_type": "code",
   "execution_count": 59,
   "id": "76501435",
   "metadata": {},
   "outputs": [],
   "source": [
    "X=car.drop(columns=['car_prices_in_rupee'])\n",
    "y=car['car_prices_in_rupee']"
   ]
  },
  {
   "cell_type": "code",
   "execution_count": 60,
   "id": "f1d615c9",
   "metadata": {},
   "outputs": [
    {
     "data": {
      "text/html": [
       "<div>\n",
       "<style scoped>\n",
       "    .dataframe tbody tr th:only-of-type {\n",
       "        vertical-align: middle;\n",
       "    }\n",
       "\n",
       "    .dataframe tbody tr th {\n",
       "        vertical-align: top;\n",
       "    }\n",
       "\n",
       "    .dataframe thead th {\n",
       "        text-align: right;\n",
       "    }\n",
       "</style>\n",
       "<table border=\"1\" class=\"dataframe\">\n",
       "  <thead>\n",
       "    <tr style=\"text-align: right;\">\n",
       "      <th></th>\n",
       "      <th>car_name</th>\n",
       "      <th>kms_driven</th>\n",
       "      <th>fuel_type</th>\n",
       "      <th>transmission</th>\n",
       "      <th>ownership</th>\n",
       "      <th>engine</th>\n",
       "      <th>Seats</th>\n",
       "      <th>age</th>\n",
       "    </tr>\n",
       "  </thead>\n",
       "  <tbody>\n",
       "    <tr>\n",
       "      <th>0</th>\n",
       "      <td>234</td>\n",
       "      <td>86226</td>\n",
       "      <td>1</td>\n",
       "      <td>1</td>\n",
       "      <td>1</td>\n",
       "      <td>60</td>\n",
       "      <td>2</td>\n",
       "      <td>6</td>\n",
       "    </tr>\n",
       "    <tr>\n",
       "      <th>1</th>\n",
       "      <td>503</td>\n",
       "      <td>13248</td>\n",
       "      <td>4</td>\n",
       "      <td>0</td>\n",
       "      <td>1</td>\n",
       "      <td>19</td>\n",
       "      <td>2</td>\n",
       "      <td>2</td>\n",
       "    </tr>\n",
       "    <tr>\n",
       "      <th>2</th>\n",
       "      <td>614</td>\n",
       "      <td>60343</td>\n",
       "      <td>4</td>\n",
       "      <td>0</td>\n",
       "      <td>1</td>\n",
       "      <td>88</td>\n",
       "      <td>2</td>\n",
       "      <td>7</td>\n",
       "    </tr>\n",
       "    <tr>\n",
       "      <th>3</th>\n",
       "      <td>150</td>\n",
       "      <td>26696</td>\n",
       "      <td>4</td>\n",
       "      <td>0</td>\n",
       "      <td>1</td>\n",
       "      <td>14</td>\n",
       "      <td>2</td>\n",
       "      <td>5</td>\n",
       "    </tr>\n",
       "    <tr>\n",
       "      <th>4</th>\n",
       "      <td>657</td>\n",
       "      <td>69414</td>\n",
       "      <td>4</td>\n",
       "      <td>1</td>\n",
       "      <td>1</td>\n",
       "      <td>14</td>\n",
       "      <td>2</td>\n",
       "      <td>7</td>\n",
       "    </tr>\n",
       "    <tr>\n",
       "      <th>...</th>\n",
       "      <td>...</td>\n",
       "      <td>...</td>\n",
       "      <td>...</td>\n",
       "      <td>...</td>\n",
       "      <td>...</td>\n",
       "      <td>...</td>\n",
       "      <td>...</td>\n",
       "      <td>...</td>\n",
       "    </tr>\n",
       "    <tr>\n",
       "      <th>5507</th>\n",
       "      <td>34</td>\n",
       "      <td>45000</td>\n",
       "      <td>1</td>\n",
       "      <td>0</td>\n",
       "      <td>1</td>\n",
       "      <td>110</td>\n",
       "      <td>4</td>\n",
       "      <td>5</td>\n",
       "    </tr>\n",
       "    <tr>\n",
       "      <th>5508</th>\n",
       "      <td>33</td>\n",
       "      <td>29000</td>\n",
       "      <td>4</td>\n",
       "      <td>0</td>\n",
       "      <td>2</td>\n",
       "      <td>61</td>\n",
       "      <td>2</td>\n",
       "      <td>8</td>\n",
       "    </tr>\n",
       "    <tr>\n",
       "      <th>5509</th>\n",
       "      <td>229</td>\n",
       "      <td>90000</td>\n",
       "      <td>1</td>\n",
       "      <td>0</td>\n",
       "      <td>2</td>\n",
       "      <td>98</td>\n",
       "      <td>2</td>\n",
       "      <td>10</td>\n",
       "    </tr>\n",
       "    <tr>\n",
       "      <th>5510</th>\n",
       "      <td>32</td>\n",
       "      <td>79000</td>\n",
       "      <td>1</td>\n",
       "      <td>0</td>\n",
       "      <td>3</td>\n",
       "      <td>104</td>\n",
       "      <td>3</td>\n",
       "      <td>8</td>\n",
       "    </tr>\n",
       "    <tr>\n",
       "      <th>5511</th>\n",
       "      <td>30</td>\n",
       "      <td>42000</td>\n",
       "      <td>1</td>\n",
       "      <td>0</td>\n",
       "      <td>2</td>\n",
       "      <td>65</td>\n",
       "      <td>2</td>\n",
       "      <td>6</td>\n",
       "    </tr>\n",
       "  </tbody>\n",
       "</table>\n",
       "<p>5327 rows × 8 columns</p>\n",
       "</div>"
      ],
      "text/plain": [
       "      car_name  kms_driven  fuel_type  transmission  ownership  engine  Seats  \\\n",
       "0          234       86226          1             1          1      60      2   \n",
       "1          503       13248          4             0          1      19      2   \n",
       "2          614       60343          4             0          1      88      2   \n",
       "3          150       26696          4             0          1      14      2   \n",
       "4          657       69414          4             1          1      14      2   \n",
       "...        ...         ...        ...           ...        ...     ...    ...   \n",
       "5507        34       45000          1             0          1     110      4   \n",
       "5508        33       29000          4             0          2      61      2   \n",
       "5509       229       90000          1             0          2      98      2   \n",
       "5510        32       79000          1             0          3     104      3   \n",
       "5511        30       42000          1             0          2      65      2   \n",
       "\n",
       "      age  \n",
       "0       6  \n",
       "1       2  \n",
       "2       7  \n",
       "3       5  \n",
       "4       7  \n",
       "...   ...  \n",
       "5507    5  \n",
       "5508    8  \n",
       "5509   10  \n",
       "5510    8  \n",
       "5511    6  \n",
       "\n",
       "[5327 rows x 8 columns]"
      ]
     },
     "execution_count": 60,
     "metadata": {},
     "output_type": "execute_result"
    }
   ],
   "source": [
    "X"
   ]
  },
  {
   "cell_type": "code",
   "execution_count": 61,
   "id": "da0b1c43",
   "metadata": {},
   "outputs": [],
   "source": [
    "from sklearn.model_selection import train_test_split\n",
    "X_train, X_test, y_train, y_test = train_test_split(X, y, test_size=0.33, random_state=42)"
   ]
  },
  {
   "cell_type": "code",
   "execution_count": 62,
   "id": "5a9b1bc2",
   "metadata": {},
   "outputs": [
    {
     "data": {
      "text/plain": [
       "(3569, 8)"
      ]
     },
     "execution_count": 62,
     "metadata": {},
     "output_type": "execute_result"
    }
   ],
   "source": [
    "X_train.shape"
   ]
  },
  {
   "cell_type": "code",
   "execution_count": 63,
   "id": "2c426792",
   "metadata": {},
   "outputs": [
    {
     "data": {
      "text/plain": [
       "(1758, 8)"
      ]
     },
     "execution_count": 63,
     "metadata": {},
     "output_type": "execute_result"
    }
   ],
   "source": [
    "X_test.shape"
   ]
  },
  {
   "cell_type": "code",
   "execution_count": 64,
   "id": "fff69a3c",
   "metadata": {},
   "outputs": [],
   "source": [
    "#Scaling"
   ]
  },
  {
   "cell_type": "code",
   "execution_count": 65,
   "id": "8e110720",
   "metadata": {},
   "outputs": [],
   "source": [
    "#from sklearn.preprocessing import StandardScaler\n",
    "#sc = StandardScaler()\n",
    "#X_train = sc.fit_transform(X_train)\n",
    "#X_test=sc.transform(X_test)"
   ]
  },
  {
   "cell_type": "code",
   "execution_count": 66,
   "id": "2daeda81",
   "metadata": {},
   "outputs": [
    {
     "data": {
      "text/html": [
       "<div>\n",
       "<style scoped>\n",
       "    .dataframe tbody tr th:only-of-type {\n",
       "        vertical-align: middle;\n",
       "    }\n",
       "\n",
       "    .dataframe tbody tr th {\n",
       "        vertical-align: top;\n",
       "    }\n",
       "\n",
       "    .dataframe thead th {\n",
       "        text-align: right;\n",
       "    }\n",
       "</style>\n",
       "<table border=\"1\" class=\"dataframe\">\n",
       "  <thead>\n",
       "    <tr style=\"text-align: right;\">\n",
       "      <th></th>\n",
       "      <th>car_name</th>\n",
       "      <th>kms_driven</th>\n",
       "      <th>fuel_type</th>\n",
       "      <th>transmission</th>\n",
       "      <th>ownership</th>\n",
       "      <th>engine</th>\n",
       "      <th>Seats</th>\n",
       "      <th>age</th>\n",
       "    </tr>\n",
       "  </thead>\n",
       "  <tbody>\n",
       "    <tr>\n",
       "      <th>5254</th>\n",
       "      <td>84</td>\n",
       "      <td>62500</td>\n",
       "      <td>1</td>\n",
       "      <td>1</td>\n",
       "      <td>1</td>\n",
       "      <td>0</td>\n",
       "      <td>2</td>\n",
       "      <td>8</td>\n",
       "    </tr>\n",
       "    <tr>\n",
       "      <th>1807</th>\n",
       "      <td>40</td>\n",
       "      <td>50000</td>\n",
       "      <td>1</td>\n",
       "      <td>0</td>\n",
       "      <td>1</td>\n",
       "      <td>67</td>\n",
       "      <td>2</td>\n",
       "      <td>7</td>\n",
       "    </tr>\n",
       "    <tr>\n",
       "      <th>2818</th>\n",
       "      <td>221</td>\n",
       "      <td>60000</td>\n",
       "      <td>4</td>\n",
       "      <td>1</td>\n",
       "      <td>3</td>\n",
       "      <td>12</td>\n",
       "      <td>2</td>\n",
       "      <td>8</td>\n",
       "    </tr>\n",
       "    <tr>\n",
       "      <th>1927</th>\n",
       "      <td>114</td>\n",
       "      <td>19062</td>\n",
       "      <td>4</td>\n",
       "      <td>1</td>\n",
       "      <td>1</td>\n",
       "      <td>81</td>\n",
       "      <td>2</td>\n",
       "      <td>8</td>\n",
       "    </tr>\n",
       "    <tr>\n",
       "      <th>4745</th>\n",
       "      <td>207</td>\n",
       "      <td>42000</td>\n",
       "      <td>1</td>\n",
       "      <td>1</td>\n",
       "      <td>1</td>\n",
       "      <td>0</td>\n",
       "      <td>2</td>\n",
       "      <td>5</td>\n",
       "    </tr>\n",
       "    <tr>\n",
       "      <th>...</th>\n",
       "      <td>...</td>\n",
       "      <td>...</td>\n",
       "      <td>...</td>\n",
       "      <td>...</td>\n",
       "      <td>...</td>\n",
       "      <td>...</td>\n",
       "      <td>...</td>\n",
       "      <td>...</td>\n",
       "    </tr>\n",
       "    <tr>\n",
       "      <th>3191</th>\n",
       "      <td>141</td>\n",
       "      <td>64313</td>\n",
       "      <td>1</td>\n",
       "      <td>1</td>\n",
       "      <td>1</td>\n",
       "      <td>23</td>\n",
       "      <td>2</td>\n",
       "      <td>5</td>\n",
       "    </tr>\n",
       "    <tr>\n",
       "      <th>3902</th>\n",
       "      <td>188</td>\n",
       "      <td>15000</td>\n",
       "      <td>4</td>\n",
       "      <td>1</td>\n",
       "      <td>1</td>\n",
       "      <td>29</td>\n",
       "      <td>2</td>\n",
       "      <td>4</td>\n",
       "    </tr>\n",
       "    <tr>\n",
       "      <th>5375</th>\n",
       "      <td>567</td>\n",
       "      <td>100000</td>\n",
       "      <td>1</td>\n",
       "      <td>1</td>\n",
       "      <td>2</td>\n",
       "      <td>137</td>\n",
       "      <td>2</td>\n",
       "      <td>11</td>\n",
       "    </tr>\n",
       "    <tr>\n",
       "      <th>5410</th>\n",
       "      <td>685</td>\n",
       "      <td>7000</td>\n",
       "      <td>4</td>\n",
       "      <td>0</td>\n",
       "      <td>1</td>\n",
       "      <td>67</td>\n",
       "      <td>2</td>\n",
       "      <td>1</td>\n",
       "    </tr>\n",
       "    <tr>\n",
       "      <th>876</th>\n",
       "      <td>415</td>\n",
       "      <td>65150</td>\n",
       "      <td>4</td>\n",
       "      <td>1</td>\n",
       "      <td>1</td>\n",
       "      <td>16</td>\n",
       "      <td>4</td>\n",
       "      <td>6</td>\n",
       "    </tr>\n",
       "  </tbody>\n",
       "</table>\n",
       "<p>3569 rows × 8 columns</p>\n",
       "</div>"
      ],
      "text/plain": [
       "      car_name  kms_driven  fuel_type  transmission  ownership  engine  Seats  \\\n",
       "5254        84       62500          1             1          1       0      2   \n",
       "1807        40       50000          1             0          1      67      2   \n",
       "2818       221       60000          4             1          3      12      2   \n",
       "1927       114       19062          4             1          1      81      2   \n",
       "4745       207       42000          1             1          1       0      2   \n",
       "...        ...         ...        ...           ...        ...     ...    ...   \n",
       "3191       141       64313          1             1          1      23      2   \n",
       "3902       188       15000          4             1          1      29      2   \n",
       "5375       567      100000          1             1          2     137      2   \n",
       "5410       685        7000          4             0          1      67      2   \n",
       "876        415       65150          4             1          1      16      4   \n",
       "\n",
       "      age  \n",
       "5254    8  \n",
       "1807    7  \n",
       "2818    8  \n",
       "1927    8  \n",
       "4745    5  \n",
       "...   ...  \n",
       "3191    5  \n",
       "3902    4  \n",
       "5375   11  \n",
       "5410    1  \n",
       "876     6  \n",
       "\n",
       "[3569 rows x 8 columns]"
      ]
     },
     "execution_count": 66,
     "metadata": {},
     "output_type": "execute_result"
    }
   ],
   "source": [
    "X_train"
   ]
  },
  {
   "cell_type": "code",
   "execution_count": 67,
   "id": "92241ca3",
   "metadata": {},
   "outputs": [
    {
     "data": {
      "text/html": [
       "<div>\n",
       "<style scoped>\n",
       "    .dataframe tbody tr th:only-of-type {\n",
       "        vertical-align: middle;\n",
       "    }\n",
       "\n",
       "    .dataframe tbody tr th {\n",
       "        vertical-align: top;\n",
       "    }\n",
       "\n",
       "    .dataframe thead th {\n",
       "        text-align: right;\n",
       "    }\n",
       "</style>\n",
       "<table border=\"1\" class=\"dataframe\">\n",
       "  <thead>\n",
       "    <tr style=\"text-align: right;\">\n",
       "      <th></th>\n",
       "      <th>car_name</th>\n",
       "      <th>kms_driven</th>\n",
       "      <th>fuel_type</th>\n",
       "      <th>transmission</th>\n",
       "      <th>ownership</th>\n",
       "      <th>engine</th>\n",
       "      <th>Seats</th>\n",
       "      <th>age</th>\n",
       "    </tr>\n",
       "  </thead>\n",
       "  <tbody>\n",
       "    <tr>\n",
       "      <th>1920</th>\n",
       "      <td>251</td>\n",
       "      <td>80000</td>\n",
       "      <td>1</td>\n",
       "      <td>0</td>\n",
       "      <td>2</td>\n",
       "      <td>12</td>\n",
       "      <td>2</td>\n",
       "      <td>9</td>\n",
       "    </tr>\n",
       "    <tr>\n",
       "      <th>5222</th>\n",
       "      <td>340</td>\n",
       "      <td>39873</td>\n",
       "      <td>4</td>\n",
       "      <td>1</td>\n",
       "      <td>2</td>\n",
       "      <td>59</td>\n",
       "      <td>2</td>\n",
       "      <td>6</td>\n",
       "    </tr>\n",
       "    <tr>\n",
       "      <th>4574</th>\n",
       "      <td>428</td>\n",
       "      <td>42090</td>\n",
       "      <td>4</td>\n",
       "      <td>1</td>\n",
       "      <td>1</td>\n",
       "      <td>138</td>\n",
       "      <td>2</td>\n",
       "      <td>10</td>\n",
       "    </tr>\n",
       "    <tr>\n",
       "      <th>3500</th>\n",
       "      <td>214</td>\n",
       "      <td>80294</td>\n",
       "      <td>1</td>\n",
       "      <td>1</td>\n",
       "      <td>1</td>\n",
       "      <td>40</td>\n",
       "      <td>2</td>\n",
       "      <td>5</td>\n",
       "    </tr>\n",
       "    <tr>\n",
       "      <th>570</th>\n",
       "      <td>143</td>\n",
       "      <td>68000</td>\n",
       "      <td>4</td>\n",
       "      <td>0</td>\n",
       "      <td>1</td>\n",
       "      <td>67</td>\n",
       "      <td>2</td>\n",
       "      <td>13</td>\n",
       "    </tr>\n",
       "    <tr>\n",
       "      <th>...</th>\n",
       "      <td>...</td>\n",
       "      <td>...</td>\n",
       "      <td>...</td>\n",
       "      <td>...</td>\n",
       "      <td>...</td>\n",
       "      <td>...</td>\n",
       "      <td>...</td>\n",
       "      <td>...</td>\n",
       "    </tr>\n",
       "    <tr>\n",
       "      <th>1664</th>\n",
       "      <td>607</td>\n",
       "      <td>27000</td>\n",
       "      <td>4</td>\n",
       "      <td>0</td>\n",
       "      <td>1</td>\n",
       "      <td>56</td>\n",
       "      <td>2</td>\n",
       "      <td>4</td>\n",
       "    </tr>\n",
       "    <tr>\n",
       "      <th>3936</th>\n",
       "      <td>0</td>\n",
       "      <td>67301</td>\n",
       "      <td>1</td>\n",
       "      <td>0</td>\n",
       "      <td>2</td>\n",
       "      <td>138</td>\n",
       "      <td>2</td>\n",
       "      <td>8</td>\n",
       "    </tr>\n",
       "    <tr>\n",
       "      <th>439</th>\n",
       "      <td>329</td>\n",
       "      <td>56117</td>\n",
       "      <td>1</td>\n",
       "      <td>1</td>\n",
       "      <td>1</td>\n",
       "      <td>90</td>\n",
       "      <td>4</td>\n",
       "      <td>14</td>\n",
       "    </tr>\n",
       "    <tr>\n",
       "      <th>1824</th>\n",
       "      <td>186</td>\n",
       "      <td>29584</td>\n",
       "      <td>4</td>\n",
       "      <td>0</td>\n",
       "      <td>1</td>\n",
       "      <td>138</td>\n",
       "      <td>4</td>\n",
       "      <td>7</td>\n",
       "    </tr>\n",
       "    <tr>\n",
       "      <th>2921</th>\n",
       "      <td>15</td>\n",
       "      <td>38500</td>\n",
       "      <td>1</td>\n",
       "      <td>0</td>\n",
       "      <td>2</td>\n",
       "      <td>130</td>\n",
       "      <td>2</td>\n",
       "      <td>10</td>\n",
       "    </tr>\n",
       "  </tbody>\n",
       "</table>\n",
       "<p>1758 rows × 8 columns</p>\n",
       "</div>"
      ],
      "text/plain": [
       "      car_name  kms_driven  fuel_type  transmission  ownership  engine  Seats  \\\n",
       "1920       251       80000          1             0          2      12      2   \n",
       "5222       340       39873          4             1          2      59      2   \n",
       "4574       428       42090          4             1          1     138      2   \n",
       "3500       214       80294          1             1          1      40      2   \n",
       "570        143       68000          4             0          1      67      2   \n",
       "...        ...         ...        ...           ...        ...     ...    ...   \n",
       "1664       607       27000          4             0          1      56      2   \n",
       "3936         0       67301          1             0          2     138      2   \n",
       "439        329       56117          1             1          1      90      4   \n",
       "1824       186       29584          4             0          1     138      4   \n",
       "2921        15       38500          1             0          2     130      2   \n",
       "\n",
       "      age  \n",
       "1920    9  \n",
       "5222    6  \n",
       "4574   10  \n",
       "3500    5  \n",
       "570    13  \n",
       "...   ...  \n",
       "1664    4  \n",
       "3936    8  \n",
       "439    14  \n",
       "1824    7  \n",
       "2921   10  \n",
       "\n",
       "[1758 rows x 8 columns]"
      ]
     },
     "execution_count": 67,
     "metadata": {},
     "output_type": "execute_result"
    }
   ],
   "source": [
    "X_test"
   ]
  },
  {
   "cell_type": "markdown",
   "id": "dc2a8fc9",
   "metadata": {},
   "source": [
    "# Modelling"
   ]
  },
  {
   "cell_type": "markdown",
   "id": "1e4cfe4a",
   "metadata": {},
   "source": [
    "# Linear Regression"
   ]
  },
  {
   "cell_type": "code",
   "execution_count": 68,
   "id": "19a0337c",
   "metadata": {},
   "outputs": [
    {
     "data": {
      "text/plain": [
       "LinearRegression()"
      ]
     },
     "execution_count": 68,
     "metadata": {},
     "output_type": "execute_result"
    }
   ],
   "source": [
    "from sklearn.linear_model import LinearRegression\n",
    "from sklearn import metrics\n",
    "from sklearn.metrics import r2_score\n",
    "\n",
    "\n",
    "\n",
    "lr = LinearRegression()\n",
    "lr.fit(X_train, y_train)"
   ]
  },
  {
   "cell_type": "code",
   "execution_count": 69,
   "id": "8a85fc37",
   "metadata": {},
   "outputs": [],
   "source": [
    "training_data_prediction=lr.predict(X_train)"
   ]
  },
  {
   "cell_type": "code",
   "execution_count": 70,
   "id": "2196156c",
   "metadata": {},
   "outputs": [
    {
     "data": {
      "text/plain": [
       "0.44921768609287627"
      ]
     },
     "execution_count": 70,
     "metadata": {},
     "output_type": "execute_result"
    }
   ],
   "source": [
    "#R squared error\n",
    "\n",
    "error_score=metrics.r2_score(y_train,training_data_prediction)\n",
    "error_score"
   ]
  },
  {
   "cell_type": "code",
   "execution_count": null,
   "id": "4bd4bb62",
   "metadata": {},
   "outputs": [],
   "source": []
  },
  {
   "cell_type": "code",
   "execution_count": 71,
   "id": "868a94eb",
   "metadata": {},
   "outputs": [
    {
     "data": {
      "image/png": "[encoded data removed]",
      "text/plain": [
       "<Figure size 432x288 with 1 Axes>"
      ]
     },
     "metadata": {
      "needs_background": "light"
     },
     "output_type": "display_data"
    }
   ],
   "source": [
    "#visualization\n",
    "\n",
    "plt.scatter(y_train,training_data_prediction)\n",
    "plt.xlabel('Actual_price')\n",
    "plt.ylabel('Predicted_price')\n",
    "plt.title('Actual_price vs Predicted_price')\n",
    "plt.show()"
   ]
  },
  {
   "cell_type": "markdown",
   "id": "7615d6fc",
   "metadata": {},
   "source": [
    "# Lasso"
   ]
  },
  {
   "cell_type": "code",
   "execution_count": 72,
   "id": "36961bfc",
   "metadata": {},
   "outputs": [],
   "source": [
    "from sklearn.linear_model import Lasso"
   ]
  },
  {
   "cell_type": "code",
   "execution_count": 73,
   "id": "e6200c8c",
   "metadata": {},
   "outputs": [],
   "source": [
    "ls=Lasso()"
   ]
  },
  {
   "cell_type": "code",
   "execution_count": 74,
   "id": "eed6686b",
   "metadata": {},
   "outputs": [
    {
     "data": {
      "text/plain": [
       "Lasso()"
      ]
     },
     "execution_count": 74,
     "metadata": {},
     "output_type": "execute_result"
    }
   ],
   "source": [
    "ls.fit(X_train,y_train)"
   ]
  },
  {
   "cell_type": "code",
   "execution_count": 75,
   "id": "dbf24b04",
   "metadata": {},
   "outputs": [],
   "source": [
    "train_data_prediction=ls.predict(X_train)"
   ]
  },
  {
   "cell_type": "code",
   "execution_count": 76,
   "id": "19499ba1",
   "metadata": {},
   "outputs": [
    {
     "data": {
      "text/plain": [
       "0.44921768609287627"
      ]
     },
     "execution_count": 76,
     "metadata": {},
     "output_type": "execute_result"
    }
   ],
   "source": [
    "#R squared error\n",
    "\n",
    "error_score=metrics.r2_score(y_train,training_data_prediction)\n",
    "error_score"
   ]
  },
  {
   "cell_type": "code",
   "execution_count": 77,
   "id": "3d81c5ed",
   "metadata": {},
   "outputs": [
    {
     "data": {
      "image/png": "[encoded data removed]",
      "text/plain": [
       "<Figure size 432x288 with 1 Axes>"
      ]
     },
     "metadata": {
      "needs_background": "light"
     },
     "output_type": "display_data"
    }
   ],
   "source": [
    "#visualization\n",
    "\n",
    "plt.scatter(y_train,train_data_prediction)\n",
    "plt.xlabel('Actual_price')\n",
    "plt.ylabel('Predicted_price')\n",
    "plt.title('Actual_price vs Predicted_price')\n",
    "plt.show()"
   ]
  },
  {
   "cell_type": "code",
   "execution_count": 78,
   "id": "06742633",
   "metadata": {},
   "outputs": [
    {
     "data": {
      "text/html": [
       "<div>\n",
       "<style scoped>\n",
       "    .dataframe tbody tr th:only-of-type {\n",
       "        vertical-align: middle;\n",
       "    }\n",
       "\n",
       "    .dataframe tbody tr th {\n",
       "        vertical-align: top;\n",
       "    }\n",
       "\n",
       "    .dataframe thead th {\n",
       "        text-align: right;\n",
       "    }\n",
       "</style>\n",
       "<table border=\"1\" class=\"dataframe\">\n",
       "  <thead>\n",
       "    <tr style=\"text-align: right;\">\n",
       "      <th></th>\n",
       "      <th>car_name</th>\n",
       "      <th>car_prices_in_rupee</th>\n",
       "      <th>kms_driven</th>\n",
       "      <th>fuel_type</th>\n",
       "      <th>transmission</th>\n",
       "      <th>ownership</th>\n",
       "      <th>engine</th>\n",
       "      <th>Seats</th>\n",
       "      <th>age</th>\n",
       "    </tr>\n",
       "  </thead>\n",
       "  <tbody>\n",
       "    <tr>\n",
       "      <th>0</th>\n",
       "      <td>234</td>\n",
       "      <td>1002999</td>\n",
       "      <td>86226</td>\n",
       "      <td>1</td>\n",
       "      <td>1</td>\n",
       "      <td>1</td>\n",
       "      <td>60</td>\n",
       "      <td>2</td>\n",
       "      <td>6</td>\n",
       "    </tr>\n",
       "    <tr>\n",
       "      <th>1</th>\n",
       "      <td>503</td>\n",
       "      <td>1283000</td>\n",
       "      <td>13248</td>\n",
       "      <td>4</td>\n",
       "      <td>0</td>\n",
       "      <td>1</td>\n",
       "      <td>19</td>\n",
       "      <td>2</td>\n",
       "      <td>2</td>\n",
       "    </tr>\n",
       "    <tr>\n",
       "      <th>2</th>\n",
       "      <td>614</td>\n",
       "      <td>1639999</td>\n",
       "      <td>60343</td>\n",
       "      <td>4</td>\n",
       "      <td>0</td>\n",
       "      <td>1</td>\n",
       "      <td>88</td>\n",
       "      <td>2</td>\n",
       "      <td>7</td>\n",
       "    </tr>\n",
       "    <tr>\n",
       "      <th>3</th>\n",
       "      <td>150</td>\n",
       "      <td>777000</td>\n",
       "      <td>26696</td>\n",
       "      <td>4</td>\n",
       "      <td>0</td>\n",
       "      <td>1</td>\n",
       "      <td>14</td>\n",
       "      <td>2</td>\n",
       "      <td>5</td>\n",
       "    </tr>\n",
       "    <tr>\n",
       "      <th>4</th>\n",
       "      <td>657</td>\n",
       "      <td>515000</td>\n",
       "      <td>69414</td>\n",
       "      <td>4</td>\n",
       "      <td>1</td>\n",
       "      <td>1</td>\n",
       "      <td>14</td>\n",
       "      <td>2</td>\n",
       "      <td>7</td>\n",
       "    </tr>\n",
       "    <tr>\n",
       "      <th>...</th>\n",
       "      <td>...</td>\n",
       "      <td>...</td>\n",
       "      <td>...</td>\n",
       "      <td>...</td>\n",
       "      <td>...</td>\n",
       "      <td>...</td>\n",
       "      <td>...</td>\n",
       "      <td>...</td>\n",
       "      <td>...</td>\n",
       "    </tr>\n",
       "    <tr>\n",
       "      <th>5507</th>\n",
       "      <td>34</td>\n",
       "      <td>2890000</td>\n",
       "      <td>45000</td>\n",
       "      <td>1</td>\n",
       "      <td>0</td>\n",
       "      <td>1</td>\n",
       "      <td>110</td>\n",
       "      <td>4</td>\n",
       "      <td>5</td>\n",
       "    </tr>\n",
       "    <tr>\n",
       "      <th>5508</th>\n",
       "      <td>33</td>\n",
       "      <td>6490000</td>\n",
       "      <td>29000</td>\n",
       "      <td>4</td>\n",
       "      <td>0</td>\n",
       "      <td>2</td>\n",
       "      <td>61</td>\n",
       "      <td>2</td>\n",
       "      <td>8</td>\n",
       "    </tr>\n",
       "    <tr>\n",
       "      <th>5509</th>\n",
       "      <td>229</td>\n",
       "      <td>1375000</td>\n",
       "      <td>90000</td>\n",
       "      <td>1</td>\n",
       "      <td>0</td>\n",
       "      <td>2</td>\n",
       "      <td>98</td>\n",
       "      <td>2</td>\n",
       "      <td>10</td>\n",
       "    </tr>\n",
       "    <tr>\n",
       "      <th>5510</th>\n",
       "      <td>32</td>\n",
       "      <td>2990000</td>\n",
       "      <td>79000</td>\n",
       "      <td>1</td>\n",
       "      <td>0</td>\n",
       "      <td>3</td>\n",
       "      <td>104</td>\n",
       "      <td>3</td>\n",
       "      <td>8</td>\n",
       "    </tr>\n",
       "    <tr>\n",
       "      <th>5511</th>\n",
       "      <td>30</td>\n",
       "      <td>3190000</td>\n",
       "      <td>42000</td>\n",
       "      <td>1</td>\n",
       "      <td>0</td>\n",
       "      <td>2</td>\n",
       "      <td>65</td>\n",
       "      <td>2</td>\n",
       "      <td>6</td>\n",
       "    </tr>\n",
       "  </tbody>\n",
       "</table>\n",
       "<p>5327 rows × 9 columns</p>\n",
       "</div>"
      ],
      "text/plain": [
       "      car_name  car_prices_in_rupee  kms_driven  fuel_type  transmission  \\\n",
       "0          234              1002999       86226          1             1   \n",
       "1          503              1283000       13248          4             0   \n",
       "2          614              1639999       60343          4             0   \n",
       "3          150               777000       26696          4             0   \n",
       "4          657               515000       69414          4             1   \n",
       "...        ...                  ...         ...        ...           ...   \n",
       "5507        34              2890000       45000          1             0   \n",
       "5508        33              6490000       29000          4             0   \n",
       "5509       229              1375000       90000          1             0   \n",
       "5510        32              2990000       79000          1             0   \n",
       "5511        30              3190000       42000          1             0   \n",
       "\n",
       "      ownership  engine  Seats  age  \n",
       "0             1      60      2    6  \n",
       "1             1      19      2    2  \n",
       "2             1      88      2    7  \n",
       "3             1      14      2    5  \n",
       "4             1      14      2    7  \n",
       "...         ...     ...    ...  ...  \n",
       "5507          1     110      4    5  \n",
       "5508          2      61      2    8  \n",
       "5509          2      98      2   10  \n",
       "5510          3     104      3    8  \n",
       "5511          2      65      2    6  \n",
       "\n",
       "[5327 rows x 9 columns]"
      ]
     },
     "execution_count": 78,
     "metadata": {},
     "output_type": "execute_result"
    }
   ],
   "source": [
    "car"
   ]
  },
  {
   "cell_type": "markdown",
   "id": "c6f2d690",
   "metadata": {},
   "source": [
    "# Decision Trees"
   ]
  },
  {
   "cell_type": "code",
   "execution_count": 79,
   "id": "f9620f10",
   "metadata": {},
   "outputs": [],
   "source": [
    "from sklearn.tree import DecisionTreeRegressor"
   ]
  },
  {
   "cell_type": "code",
   "execution_count": 80,
   "id": "0a7d14fd",
   "metadata": {},
   "outputs": [],
   "source": [
    "rt=DecisionTreeRegressor(criterion='mse',max_depth=5)"
   ]
  },
  {
   "cell_type": "code",
   "execution_count": 81,
   "id": "a902f93c",
   "metadata": {},
   "outputs": [
    {
     "data": {
      "text/plain": [
       "DecisionTreeRegressor(criterion='mse', max_depth=5)"
      ]
     },
     "execution_count": 81,
     "metadata": {},
     "output_type": "execute_result"
    }
   ],
   "source": [
    "rt.fit(X_train,y_train)"
   ]
  },
  {
   "cell_type": "code",
   "execution_count": 82,
   "id": "6830c4e8",
   "metadata": {},
   "outputs": [],
   "source": [
    "y_pred=rt.predict(X_test)"
   ]
  },
  {
   "cell_type": "code",
   "execution_count": 83,
   "id": "dbcb0f48",
   "metadata": {},
   "outputs": [
    {
     "data": {
      "text/plain": [
       "0.5932595974677165"
      ]
     },
     "execution_count": 83,
     "metadata": {},
     "output_type": "execute_result"
    }
   ],
   "source": [
    "r2_score(y_test,y_pred)"
   ]
  },
  {
   "cell_type": "code",
   "execution_count": null,
   "id": "01d34f86",
   "metadata": {},
   "outputs": [],
   "source": []
  },
  {
   "cell_type": "code",
   "execution_count": 84,
   "id": "2fe3e7d9",
   "metadata": {},
   "outputs": [
    {
     "data": {
      "text/plain": [
       "DecisionTreeRegressor(criterion='mse', max_depth=5)"
      ]
     },
     "execution_count": 84,
     "metadata": {},
     "output_type": "execute_result"
    }
   ],
   "source": [
    "rt.fit(X_test,y_test)"
   ]
  },
  {
   "cell_type": "code",
   "execution_count": 85,
   "id": "7b5abe79",
   "metadata": {},
   "outputs": [],
   "source": [
    "y_pred1=rt.predict(X_test)"
   ]
  },
  {
   "cell_type": "code",
   "execution_count": 86,
   "id": "9a0a0b28",
   "metadata": {},
   "outputs": [
    {
     "data": {
      "text/plain": [
       "0.6377595332791353"
      ]
     },
     "execution_count": 86,
     "metadata": {},
     "output_type": "execute_result"
    }
   ],
   "source": [
    "r2_score(y_test,y_pred1)"
   ]
  },
  {
   "cell_type": "code",
   "execution_count": null,
   "id": "0be7b0e1",
   "metadata": {},
   "outputs": [],
   "source": []
  },
  {
   "cell_type": "code",
   "execution_count": null,
   "id": "140bbf6e",
   "metadata": {},
   "outputs": [],
   "source": []
  },
  {
   "cell_type": "markdown",
   "id": "5316434d",
   "metadata": {},
   "source": [
    "# Random Forest Regresssor"
   ]
  },
  {
   "cell_type": "code",
   "execution_count": 87,
   "id": "382b69d6",
   "metadata": {},
   "outputs": [],
   "source": [
    "from sklearn.ensemble import RandomForestRegressor\n",
    "rf = RandomForestRegressor()"
   ]
  },
  {
   "cell_type": "code",
   "execution_count": 88,
   "id": "b6d96154",
   "metadata": {},
   "outputs": [
    {
     "data": {
      "text/plain": [
       "RandomForestRegressor()"
      ]
     },
     "execution_count": 88,
     "metadata": {},
     "output_type": "execute_result"
    }
   ],
   "source": [
    "rf.fit(X_train,y_train)"
   ]
  },
  {
   "cell_type": "code",
   "execution_count": 89,
   "id": "465dae55",
   "metadata": {},
   "outputs": [],
   "source": [
    "y_pred_rf = rf.predict(X_test)"
   ]
  },
  {
   "cell_type": "code",
   "execution_count": 90,
   "id": "264a42d5",
   "metadata": {},
   "outputs": [
    {
     "name": "stdout",
     "output_type": "stream",
     "text": [
      "R_squared : 0.8794787273189558\n"
     ]
    }
   ],
   "source": [
    "r_squared = r2_score(y_test,y_pred_rf)\n",
    "print(\"R_squared :\",r_squared)"
   ]
  },
  {
   "cell_type": "code",
   "execution_count": null,
   "id": "32f73ae5",
   "metadata": {},
   "outputs": [],
   "source": []
  },
  {
   "cell_type": "markdown",
   "id": "5910e1f9",
   "metadata": {},
   "source": [
    "# Hyperparameter Optimizaton"
   ]
  },
  {
   "cell_type": "code",
   "execution_count": 91,
   "id": "b860d7f2",
   "metadata": {},
   "outputs": [
    {
     "name": "stdout",
     "output_type": "stream",
     "text": [
      "{'n_estimators': [100, 200, 300, 400, 500, 600, 700, 800, 900, 1000, 1100, 1200], 'max_features': ['auto', 'sqrt'], 'max_depth': [5, 10, 15, 20, 25, 30], 'min_samples_split': [2, 5, 10, 15, 100], 'min_samples_leaf': [1, 2, 5, 10]}\n"
     ]
    }
   ],
   "source": [
    "#Randomized Search CV\n",
    "from sklearn.model_selection import RandomizedSearchCV\n",
    "# Number of trees in random forest\n",
    "n_estimators = [int(x) for x in np.linspace(start = 100, stop = 1200, num = 12)]\n",
    "# Number of features to consider at every split\n",
    "max_features = ['auto', 'sqrt']\n",
    "# Maximum number of levels in tree\n",
    "max_depth = [int(x) for x in np.linspace(5, 30, num = 6)]\n",
    "# max_depth.append(None)\n",
    "# Minimum number of samples required to split a node\n",
    "min_samples_split = [2, 5, 10, 15, 100]\n",
    "# Minimum number of samples required at each leaf node\n",
    "min_samples_leaf = [1, 2, 5, 10]\n",
    "\n",
    "# Create the random grid\n",
    "random_grid = {'n_estimators': n_estimators,\n",
    "               'max_features': max_features,\n",
    "               'max_depth': max_depth,\n",
    "               'min_samples_split': min_samples_split,\n",
    "               'min_samples_leaf': min_samples_leaf}\n",
    "\n",
    "print(random_grid)"
   ]
  },
  {
   "cell_type": "code",
   "execution_count": 92,
   "id": "b91c611b",
   "metadata": {},
   "outputs": [],
   "source": [
    "rf_random = RandomizedSearchCV(estimator = rf, param_distributions = random_grid, n_iter = 10, cv = 5, verbose=2, random_state=42, n_jobs = 1)"
   ]
  },
  {
   "cell_type": "code",
   "execution_count": 93,
   "id": "e91cda3a",
   "metadata": {},
   "outputs": [
    {
     "name": "stdout",
     "output_type": "stream",
     "text": [
      "Fitting 5 folds for each of 10 candidates, totalling 50 fits\n",
      "[CV] END max_depth=10, max_features=sqrt, min_samples_leaf=5, min_samples_split=5, n_estimators=900; total time=   1.4s\n",
      "[CV] END max_depth=10, max_features=sqrt, min_samples_leaf=5, min_samples_split=5, n_estimators=900; total time=   1.3s\n",
      "[CV] END max_depth=10, max_features=sqrt, min_samples_leaf=5, min_samples_split=5, n_estimators=900; total time=   1.3s\n",
      "[CV] END max_depth=10, max_features=sqrt, min_samples_leaf=5, min_samples_split=5, n_estimators=900; total time=   1.3s\n",
      "[CV] END max_depth=10, max_features=sqrt, min_samples_leaf=5, min_samples_split=5, n_estimators=900; total time=   1.3s\n",
      "[CV] END max_depth=15, max_features=sqrt, min_samples_leaf=2, min_samples_split=10, n_estimators=1100; total time=   1.8s\n",
      "[CV] END max_depth=15, max_features=sqrt, min_samples_leaf=2, min_samples_split=10, n_estimators=1100; total time=   1.8s\n",
      "[CV] END max_depth=15, max_features=sqrt, min_samples_leaf=2, min_samples_split=10, n_estimators=1100; total time=   1.8s\n",
      "[CV] END max_depth=15, max_features=sqrt, min_samples_leaf=2, min_samples_split=10, n_estimators=1100; total time=   1.8s\n",
      "[CV] END max_depth=15, max_features=sqrt, min_samples_leaf=2, min_samples_split=10, n_estimators=1100; total time=   1.8s\n",
      "[CV] END max_depth=15, max_features=auto, min_samples_leaf=5, min_samples_split=100, n_estimators=300; total time=   0.7s\n",
      "[CV] END max_depth=15, max_features=auto, min_samples_leaf=5, min_samples_split=100, n_estimators=300; total time=   0.7s\n",
      "[CV] END max_depth=15, max_features=auto, min_samples_leaf=5, min_samples_split=100, n_estimators=300; total time=   0.7s\n",
      "[CV] END max_depth=15, max_features=auto, min_samples_leaf=5, min_samples_split=100, n_estimators=300; total time=   0.7s\n",
      "[CV] END max_depth=15, max_features=auto, min_samples_leaf=5, min_samples_split=100, n_estimators=300; total time=   0.7s\n",
      "[CV] END max_depth=15, max_features=auto, min_samples_leaf=5, min_samples_split=5, n_estimators=400; total time=   1.4s\n",
      "[CV] END max_depth=15, max_features=auto, min_samples_leaf=5, min_samples_split=5, n_estimators=400; total time=   1.4s\n",
      "[CV] END max_depth=15, max_features=auto, min_samples_leaf=5, min_samples_split=5, n_estimators=400; total time=   1.4s\n",
      "[CV] END max_depth=15, max_features=auto, min_samples_leaf=5, min_samples_split=5, n_estimators=400; total time=   1.4s\n",
      "[CV] END max_depth=15, max_features=auto, min_samples_leaf=5, min_samples_split=5, n_estimators=400; total time=   1.4s\n",
      "[CV] END max_depth=20, max_features=auto, min_samples_leaf=10, min_samples_split=5, n_estimators=700; total time=   2.5s\n",
      "[CV] END max_depth=20, max_features=auto, min_samples_leaf=10, min_samples_split=5, n_estimators=700; total time=   2.3s\n",
      "[CV] END max_depth=20, max_features=auto, min_samples_leaf=10, min_samples_split=5, n_estimators=700; total time=   2.1s\n",
      "[CV] END max_depth=20, max_features=auto, min_samples_leaf=10, min_samples_split=5, n_estimators=700; total time=   2.1s\n",
      "[CV] END max_depth=20, max_features=auto, min_samples_leaf=10, min_samples_split=5, n_estimators=700; total time=   2.1s\n",
      "[CV] END max_depth=25, max_features=sqrt, min_samples_leaf=1, min_samples_split=2, n_estimators=1000; total time=   2.6s\n",
      "[CV] END max_depth=25, max_features=sqrt, min_samples_leaf=1, min_samples_split=2, n_estimators=1000; total time=   2.7s\n",
      "[CV] END max_depth=25, max_features=sqrt, min_samples_leaf=1, min_samples_split=2, n_estimators=1000; total time=   2.8s\n",
      "[CV] END max_depth=25, max_features=sqrt, min_samples_leaf=1, min_samples_split=2, n_estimators=1000; total time=   2.8s\n",
      "[CV] END max_depth=25, max_features=sqrt, min_samples_leaf=1, min_samples_split=2, n_estimators=1000; total time=   2.6s\n",
      "[CV] END max_depth=5, max_features=sqrt, min_samples_leaf=10, min_samples_split=15, n_estimators=1100; total time=   1.2s\n",
      "[CV] END max_depth=5, max_features=sqrt, min_samples_leaf=10, min_samples_split=15, n_estimators=1100; total time=   1.2s\n",
      "[CV] END max_depth=5, max_features=sqrt, min_samples_leaf=10, min_samples_split=15, n_estimators=1100; total time=   1.1s\n",
      "[CV] END max_depth=5, max_features=sqrt, min_samples_leaf=10, min_samples_split=15, n_estimators=1100; total time=   1.1s\n",
      "[CV] END max_depth=5, max_features=sqrt, min_samples_leaf=10, min_samples_split=15, n_estimators=1100; total time=   1.1s\n",
      "[CV] END max_depth=15, max_features=sqrt, min_samples_leaf=1, min_samples_split=15, n_estimators=300; total time=   0.4s\n",
      "[CV] END max_depth=15, max_features=sqrt, min_samples_leaf=1, min_samples_split=15, n_estimators=300; total time=   0.4s\n",
      "[CV] END max_depth=15, max_features=sqrt, min_samples_leaf=1, min_samples_split=15, n_estimators=300; total time=   0.4s\n",
      "[CV] END max_depth=15, max_features=sqrt, min_samples_leaf=1, min_samples_split=15, n_estimators=300; total time=   0.4s\n",
      "[CV] END max_depth=15, max_features=sqrt, min_samples_leaf=1, min_samples_split=15, n_estimators=300; total time=   0.4s\n",
      "[CV] END max_depth=5, max_features=sqrt, min_samples_leaf=2, min_samples_split=10, n_estimators=700; total time=   0.7s\n",
      "[CV] END max_depth=5, max_features=sqrt, min_samples_leaf=2, min_samples_split=10, n_estimators=700; total time=   0.7s\n",
      "[CV] END max_depth=5, max_features=sqrt, min_samples_leaf=2, min_samples_split=10, n_estimators=700; total time=   0.7s\n",
      "[CV] END max_depth=5, max_features=sqrt, min_samples_leaf=2, min_samples_split=10, n_estimators=700; total time=   0.7s\n",
      "[CV] END max_depth=5, max_features=sqrt, min_samples_leaf=2, min_samples_split=10, n_estimators=700; total time=   0.7s\n",
      "[CV] END max_depth=20, max_features=auto, min_samples_leaf=1, min_samples_split=15, n_estimators=700; total time=   2.5s\n",
      "[CV] END max_depth=20, max_features=auto, min_samples_leaf=1, min_samples_split=15, n_estimators=700; total time=   2.6s\n",
      "[CV] END max_depth=20, max_features=auto, min_samples_leaf=1, min_samples_split=15, n_estimators=700; total time=   2.8s\n",
      "[CV] END max_depth=20, max_features=auto, min_samples_leaf=1, min_samples_split=15, n_estimators=700; total time=   2.5s\n",
      "[CV] END max_depth=20, max_features=auto, min_samples_leaf=1, min_samples_split=15, n_estimators=700; total time=   2.6s\n"
     ]
    },
    {
     "data": {
      "text/plain": [
       "RandomizedSearchCV(cv=5, estimator=RandomForestRegressor(), n_jobs=1,\n",
       "                   param_distributions={'max_depth': [5, 10, 15, 20, 25, 30],\n",
       "                                        'max_features': ['auto', 'sqrt'],\n",
       "                                        'min_samples_leaf': [1, 2, 5, 10],\n",
       "                                        'min_samples_split': [2, 5, 10, 15,\n",
       "                                                              100],\n",
       "                                        'n_estimators': [100, 200, 300, 400,\n",
       "                                                         500, 600, 700, 800,\n",
       "                                                         900, 1000, 1100,\n",
       "                                                         1200]},\n",
       "                   random_state=42, verbose=2)"
      ]
     },
     "execution_count": 93,
     "metadata": {},
     "output_type": "execute_result"
    }
   ],
   "source": [
    "rf_random.fit(X_train,y_train)"
   ]
  },
  {
   "cell_type": "code",
   "execution_count": 94,
   "id": "c3f21989",
   "metadata": {},
   "outputs": [
    {
     "data": {
      "text/plain": [
       "{'n_estimators': 700,\n",
       " 'min_samples_split': 15,\n",
       " 'min_samples_leaf': 1,\n",
       " 'max_features': 'auto',\n",
       " 'max_depth': 20}"
      ]
     },
     "execution_count": 94,
     "metadata": {},
     "output_type": "execute_result"
    }
   ],
   "source": [
    "rf_random.best_params_"
   ]
  },
  {
   "cell_type": "code",
   "execution_count": 95,
   "id": "47ca5b5c",
   "metadata": {},
   "outputs": [],
   "source": [
    "predictions=rf_random.predict(X_test)"
   ]
  },
  {
   "cell_type": "code",
   "execution_count": 96,
   "id": "0eabd288",
   "metadata": {},
   "outputs": [
    {
     "name": "stdout",
     "output_type": "stream",
     "text": [
      "R_squared : 0.8275310684427375\n"
     ]
    }
   ],
   "source": [
    "r_squared = r2_score(y_test,predictions)\n",
    "print(\"R_squared :\",r_squared)"
   ]
  },
  {
   "cell_type": "code",
   "execution_count": null,
   "id": "6f6f07ed",
   "metadata": {},
   "outputs": [],
   "source": []
  },
  {
   "cell_type": "code",
   "execution_count": null,
   "id": "959bb9dd",
   "metadata": {},
   "outputs": [],
   "source": []
  },
  {
   "cell_type": "markdown",
   "id": "0a2a46a0",
   "metadata": {},
   "source": [
    "# Pickle"
   ]
  },
  {
   "cell_type": "code",
   "execution_count": 100,
   "id": "d36477e5",
   "metadata": {},
   "outputs": [],
   "source": [
    "import pickle"
   ]
  },
  {
   "cell_type": "code",
   "execution_count": 101,
   "id": "128b6961",
   "metadata": {},
   "outputs": [],
   "source": [
    "pickle.dump(rf_random,open('model.pkl','wb'))"
   ]
  },
  {
   "cell_type": "code",
   "execution_count": null,
   "id": "cd64bfcf",
   "metadata": {},
   "outputs": [],
   "source": []
  },
  {
   "cell_type": "code",
   "execution_count": null,
   "id": "7f929dda",
   "metadata": {},
   "outputs": [],
   "source": []
  },
  {
   "cell_type": "markdown",
   "id": "c52ef193",
   "metadata": {},
   "source": [
    "# Prediction by giving Input"
   ]
  },
  {
   "cell_type": "code",
   "execution_count": 99,
   "id": "cdf4925d",
   "metadata": {},
   "outputs": [],
   "source": [
    "def Car_price_predictor():\n",
    "    car_name=input(\"Enter car name :  \",car['car_name'].index[0])\n",
    "    kms_driven=int(input(\"Enter Kms driven :  \"))\n",
    "    fuel_type=input(\"Enter fuel type :  \")\n",
    "    transmission=input(\"Enter mode of transmission :  \")\n",
    "    ownership=input(\"Enter ownership :  \")\n",
    "    age=int(input(\"Enter age of car :  \"))\n",
    "    engine=input(\"Enter engine type :  \")\n",
    "    seats=input(\"Enter seats :  \")\n",
    "    \n",
    "    newdata=[[car_name,kms_driven,fuel_type,transmission,ownership,age,engine,seats]]\n",
    "    prediction=ls.predict(newdata)\n",
    "    \n",
    "    print(\"car price should be :  \",prediction)"
   ]
  },
  {
   "cell_type": "code",
   "execution_count": null,
   "id": "ee03434d",
   "metadata": {},
   "outputs": [],
   "source": []
  },
  {
   "cell_type": "code",
   "execution_count": null,
   "id": "8e8f763c",
   "metadata": {},
   "outputs": [],
   "source": []
  }
 ],
 "metadata": {
  "kernelspec": {
   "display_name": "Python 3 (ipykernel)",
   "language": "python",
   "name": "python3"
  },
  "language_info": {
   "codemirror_mode": {
    "name": "ipython",
    "version": 3
   },
   "file_extension": ".py",
   "mimetype": "text/x-python",
   "name": "python",
   "nbconvert_exporter": "python",
   "pygments_lexer": "ipython3",
   "version": "3.9.12"
  }
 },
 "nbformat": 4,
 "nbformat_minor": 5
}
